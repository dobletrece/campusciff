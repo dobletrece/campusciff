{
 "cells": [
  {
   "cell_type": "markdown",
   "metadata": {},
   "source": [
    "## Variable Selection"
   ]
  },
  {
   "cell_type": "code",
   "execution_count": 2,
   "metadata": {},
   "outputs": [
    {
     "name": "stdout",
     "output_type": "stream",
     "text": [
      "Using matplotlib backend: Qt5Agg\n",
      "Populating the interactive namespace from numpy and matplotlib\n"
     ]
    }
   ],
   "source": [
    "import numpy as np\n",
    "import pandas as pd\n",
    "import matplotlib.pyplot as plt\n",
    "import seaborn as sns\n",
    "%pylab\n",
    "%matplotlib inline"
   ]
  },
  {
   "cell_type": "code",
   "execution_count": 3,
   "metadata": {
    "collapsed": true
   },
   "outputs": [],
   "source": [
    "data = pd.read_csv('data_norm_vif_v2.csv', sep=';', encoding='utf-8')"
   ]
  },
  {
   "cell_type": "code",
   "execution_count": 4,
   "metadata": {},
   "outputs": [
    {
     "data": {
      "text/html": [
       "<div>\n",
       "<style>\n",
       "    .dataframe thead tr:only-child th {\n",
       "        text-align: right;\n",
       "    }\n",
       "\n",
       "    .dataframe thead th {\n",
       "        text-align: left;\n",
       "    }\n",
       "\n",
       "    .dataframe tbody tr th {\n",
       "        vertical-align: top;\n",
       "    }\n",
       "</style>\n",
       "<table border=\"1\" class=\"dataframe\">\n",
       "  <thead>\n",
       "    <tr style=\"text-align: right;\">\n",
       "      <th></th>\n",
       "      <th>district_1</th>\n",
       "      <th>district_10</th>\n",
       "      <th>district_11</th>\n",
       "      <th>district_12</th>\n",
       "      <th>district_13</th>\n",
       "      <th>district_14</th>\n",
       "      <th>district_15</th>\n",
       "      <th>district_16</th>\n",
       "      <th>district_17</th>\n",
       "      <th>district_18</th>\n",
       "      <th>...</th>\n",
       "      <th>WordCloudHighTri</th>\n",
       "      <th>WordCloudHighTriTail</th>\n",
       "      <th>WCSentAllTriTail</th>\n",
       "      <th>RevLen</th>\n",
       "      <th>Points</th>\n",
       "      <th>TriLowProb</th>\n",
       "      <th>TriMedProb</th>\n",
       "      <th>TriHighProb</th>\n",
       "      <th>funny</th>\n",
       "      <th>stars</th>\n",
       "    </tr>\n",
       "  </thead>\n",
       "  <tbody>\n",
       "    <tr>\n",
       "      <th>0</th>\n",
       "      <td>0</td>\n",
       "      <td>0</td>\n",
       "      <td>0</td>\n",
       "      <td>0</td>\n",
       "      <td>0</td>\n",
       "      <td>0</td>\n",
       "      <td>0</td>\n",
       "      <td>0</td>\n",
       "      <td>0</td>\n",
       "      <td>0</td>\n",
       "      <td>...</td>\n",
       "      <td>-0.530980</td>\n",
       "      <td>-0.033799</td>\n",
       "      <td>0.000351</td>\n",
       "      <td>-0.191533</td>\n",
       "      <td>-0.539809</td>\n",
       "      <td>-0.32935</td>\n",
       "      <td>-0.240948</td>\n",
       "      <td>-0.317946</td>\n",
       "      <td>-0.404404</td>\n",
       "      <td>3.5</td>\n",
       "    </tr>\n",
       "    <tr>\n",
       "      <th>1</th>\n",
       "      <td>0</td>\n",
       "      <td>0</td>\n",
       "      <td>0</td>\n",
       "      <td>0</td>\n",
       "      <td>0</td>\n",
       "      <td>0</td>\n",
       "      <td>0</td>\n",
       "      <td>0</td>\n",
       "      <td>0</td>\n",
       "      <td>0</td>\n",
       "      <td>...</td>\n",
       "      <td>-0.530980</td>\n",
       "      <td>-0.033799</td>\n",
       "      <td>0.000351</td>\n",
       "      <td>1.155857</td>\n",
       "      <td>0.039941</td>\n",
       "      <td>-0.32935</td>\n",
       "      <td>-0.240948</td>\n",
       "      <td>-0.317946</td>\n",
       "      <td>-0.404404</td>\n",
       "      <td>4.5</td>\n",
       "    </tr>\n",
       "    <tr>\n",
       "      <th>2</th>\n",
       "      <td>0</td>\n",
       "      <td>0</td>\n",
       "      <td>0</td>\n",
       "      <td>0</td>\n",
       "      <td>0</td>\n",
       "      <td>0</td>\n",
       "      <td>0</td>\n",
       "      <td>0</td>\n",
       "      <td>0</td>\n",
       "      <td>0</td>\n",
       "      <td>...</td>\n",
       "      <td>-0.530980</td>\n",
       "      <td>-0.033799</td>\n",
       "      <td>0.000351</td>\n",
       "      <td>-0.503945</td>\n",
       "      <td>0.470362</td>\n",
       "      <td>-0.32935</td>\n",
       "      <td>-0.240948</td>\n",
       "      <td>-0.317946</td>\n",
       "      <td>-0.207022</td>\n",
       "      <td>4.5</td>\n",
       "    </tr>\n",
       "    <tr>\n",
       "      <th>3</th>\n",
       "      <td>0</td>\n",
       "      <td>0</td>\n",
       "      <td>0</td>\n",
       "      <td>0</td>\n",
       "      <td>0</td>\n",
       "      <td>0</td>\n",
       "      <td>0</td>\n",
       "      <td>0</td>\n",
       "      <td>0</td>\n",
       "      <td>0</td>\n",
       "      <td>...</td>\n",
       "      <td>-0.015852</td>\n",
       "      <td>-0.033799</td>\n",
       "      <td>0.000351</td>\n",
       "      <td>-0.500877</td>\n",
       "      <td>0.525262</td>\n",
       "      <td>-0.32935</td>\n",
       "      <td>-0.240948</td>\n",
       "      <td>0.797956</td>\n",
       "      <td>-0.108331</td>\n",
       "      <td>4.5</td>\n",
       "    </tr>\n",
       "    <tr>\n",
       "      <th>4</th>\n",
       "      <td>0</td>\n",
       "      <td>0</td>\n",
       "      <td>0</td>\n",
       "      <td>0</td>\n",
       "      <td>1</td>\n",
       "      <td>0</td>\n",
       "      <td>0</td>\n",
       "      <td>0</td>\n",
       "      <td>0</td>\n",
       "      <td>0</td>\n",
       "      <td>...</td>\n",
       "      <td>0.842695</td>\n",
       "      <td>-0.033799</td>\n",
       "      <td>0.000351</td>\n",
       "      <td>-1.325887</td>\n",
       "      <td>-0.598369</td>\n",
       "      <td>2.47658</td>\n",
       "      <td>-0.240948</td>\n",
       "      <td>2.657793</td>\n",
       "      <td>-0.404404</td>\n",
       "      <td>3.0</td>\n",
       "    </tr>\n",
       "  </tbody>\n",
       "</table>\n",
       "<p>5 rows × 116 columns</p>\n",
       "</div>"
      ],
      "text/plain": [
       "   district_1  district_10  district_11  district_12  district_13  \\\n",
       "0           0            0            0            0            0   \n",
       "1           0            0            0            0            0   \n",
       "2           0            0            0            0            0   \n",
       "3           0            0            0            0            0   \n",
       "4           0            0            0            0            1   \n",
       "\n",
       "   district_14  district_15  district_16  district_17  district_18  ...    \\\n",
       "0            0            0            0            0            0  ...     \n",
       "1            0            0            0            0            0  ...     \n",
       "2            0            0            0            0            0  ...     \n",
       "3            0            0            0            0            0  ...     \n",
       "4            0            0            0            0            0  ...     \n",
       "\n",
       "   WordCloudHighTri  WordCloudHighTriTail  WCSentAllTriTail    RevLen  \\\n",
       "0         -0.530980             -0.033799          0.000351 -0.191533   \n",
       "1         -0.530980             -0.033799          0.000351  1.155857   \n",
       "2         -0.530980             -0.033799          0.000351 -0.503945   \n",
       "3         -0.015852             -0.033799          0.000351 -0.500877   \n",
       "4          0.842695             -0.033799          0.000351 -1.325887   \n",
       "\n",
       "     Points  TriLowProb  TriMedProb  TriHighProb     funny  stars  \n",
       "0 -0.539809    -0.32935   -0.240948    -0.317946 -0.404404    3.5  \n",
       "1  0.039941    -0.32935   -0.240948    -0.317946 -0.404404    4.5  \n",
       "2  0.470362    -0.32935   -0.240948    -0.317946 -0.207022    4.5  \n",
       "3  0.525262    -0.32935   -0.240948     0.797956 -0.108331    4.5  \n",
       "4 -0.598369     2.47658   -0.240948     2.657793 -0.404404    3.0  \n",
       "\n",
       "[5 rows x 116 columns]"
      ]
     },
     "execution_count": 4,
     "metadata": {},
     "output_type": "execute_result"
    }
   ],
   "source": [
    "data.head()"
   ]
  },
  {
   "cell_type": "code",
   "execution_count": 5,
   "metadata": {},
   "outputs": [
    {
     "data": {
      "text/plain": [
       "Series([], dtype: object)"
      ]
     },
     "execution_count": 5,
     "metadata": {},
     "output_type": "execute_result"
    }
   ],
   "source": [
    "data.dtypes[data.dtypes == object]"
   ]
  },
  {
   "cell_type": "code",
   "execution_count": 6,
   "metadata": {
    "collapsed": true
   },
   "outputs": [],
   "source": [
    "features = list(data.columns)\n",
    "features.remove('stars')"
   ]
  },
  {
   "cell_type": "code",
   "execution_count": 7,
   "metadata": {
    "collapsed": true
   },
   "outputs": [],
   "source": [
    "# Hacemos el split para que los datos de test no intervengan en el feature selection\n",
    "from sklearn.model_selection import train_test_split\n",
    "\n",
    "X_train, X_test, y_train, y_test = train_test_split(data[features], data['stars'], test_size=0.25, random_state=42)"
   ]
  },
  {
   "cell_type": "code",
   "execution_count": 8,
   "metadata": {},
   "outputs": [
    {
     "data": {
      "text/plain": [
       "(pandas.core.series.Series, pandas.core.frame.DataFrame)"
      ]
     },
     "execution_count": 8,
     "metadata": {},
     "output_type": "execute_result"
    }
   ],
   "source": [
    "type(y_train), type(X_train)"
   ]
  },
  {
   "cell_type": "markdown",
   "metadata": {},
   "source": [
    "### RFE. Recursive Feature Elimination using Support Vector Regressor"
   ]
  },
  {
   "cell_type": "code",
   "execution_count": 8,
   "metadata": {
    "collapsed": true
   },
   "outputs": [],
   "source": [
    "from sklearn.feature_selection import RFE\n",
    "from sklearn.svm import SVR"
   ]
  },
  {
   "cell_type": "code",
   "execution_count": 9,
   "metadata": {
    "collapsed": true
   },
   "outputs": [],
   "source": [
    "estimator = SVR(kernel=\"linear\")\n",
    "selector = RFE(estimator, n_features_to_select=20, step=0.1)\n",
    "selector = selector.fit(X_train, y_train)"
   ]
  },
  {
   "cell_type": "code",
   "execution_count": 10,
   "metadata": {},
   "outputs": [
    {
     "data": {
      "text/plain": [
       "array([ 5,  4,  9,  8, 10,  5,  5,  7,  1,  1,  7,  9,  1,  3,  8,  6,  5,\n",
       "        6,  6,  5,  3,  9,  4,  3,  1,  6,  3,  4,  6,  4, 10,  1,  7,  7,\n",
       "        1,  2,  1,  7,  8, 10,  3,  4,  8,  8,  7,  3,  7,  2,  2, 10,  9,\n",
       "        4,  6, 10, 10,  9,  3, 10,  1,  1,  1,  8,  1, 10,  5,  4,  7,  3,\n",
       "        2,  1,  1,  1,  1,  4,  1,  1,  2,  1,  5,  1,  3,  8, 10,  7,  3,\n",
       "        4,  6,  3,  5,  9,  8,  5,  2,  6,  6,  7,  4,  2,  6,  9,  9,  5,\n",
       "        8,  5,  8,  4,  9,  9, 10,  6,  1,  7,  8, 10,  9])"
      ]
     },
     "execution_count": 10,
     "metadata": {},
     "output_type": "execute_result"
    }
   ],
   "source": [
    "selector.ranking_"
   ]
  },
  {
   "cell_type": "code",
   "execution_count": 11,
   "metadata": {},
   "outputs": [
    {
     "data": {
      "text/plain": [
       "(115, 115)"
      ]
     },
     "execution_count": 11,
     "metadata": {},
     "output_type": "execute_result"
    }
   ],
   "source": [
    "len(selector.support_), len(features)"
   ]
  },
  {
   "cell_type": "code",
   "execution_count": 12,
   "metadata": {
    "collapsed": true
   },
   "outputs": [],
   "source": [
    "filtered_list = [i for (i, j) in zip(features, selector.support_) if j]"
   ]
  },
  {
   "cell_type": "code",
   "execution_count": 13,
   "metadata": {},
   "outputs": [
    {
     "data": {
      "text/plain": [
       "[u'district_17',\n",
       " u'district_18',\n",
       " u'district_20',\n",
       " u'district_Craiglockhart',\n",
       " u'district_Gilmerton/Inch',\n",
       " u'district_Granton and District',\n",
       " u'district_Juniper Green',\n",
       " u'district_Stuttgart Bad Cannstatt',\n",
       " u'district_Stuttgart Birkach',\n",
       " u'district_Stuttgart Botnang',\n",
       " u'district_Stuttgart Feuerbach',\n",
       " u'district_Stuttgart Obertcrkheim',\n",
       " u'district_Stuttgart Ost',\n",
       " u'district_Stuttgart Plieningen',\n",
       " u'district_Stuttgart Scd',\n",
       " u'district_Stuttgart Stammheim',\n",
       " u'district_Stuttgart Untertcrkheim',\n",
       " u'district_Stuttgart Wangen',\n",
       " u'district_Stuttgart West',\n",
       " u'Points']"
      ]
     },
     "execution_count": 13,
     "metadata": {},
     "output_type": "execute_result"
    }
   ],
   "source": [
    "# La selección realizada no parece ajustarse a ningún enfoque de negocio con sentido ya que incluye prácticamente \n",
    "# distritos de BW\n",
    "filtered_list"
   ]
  },
  {
   "cell_type": "markdown",
   "metadata": {},
   "source": [
    "### Feature Importance using Tree-based feature selection"
   ]
  },
  {
   "cell_type": "code",
   "execution_count": 14,
   "metadata": {
    "collapsed": true
   },
   "outputs": [],
   "source": [
    "from sklearn.ensemble import ExtraTreesRegressor\n",
    "from sklearn.feature_selection import SelectFromModel"
   ]
  },
  {
   "cell_type": "code",
   "execution_count": 15,
   "metadata": {},
   "outputs": [
    {
     "data": {
      "text/plain": [
       "array([  2.45193407e-03,   2.80305972e-03,   1.92045612e-03,\n",
       "         5.33371001e-03,   4.50010405e-03,   2.91813300e-03,\n",
       "         3.86670832e-03,   2.59856371e-03,   1.08490536e-02,\n",
       "         8.21617010e-05,   7.90735022e-03,   2.64891039e-03,\n",
       "         1.80049716e-04,   2.92718761e-03,   5.69007584e-03,\n",
       "         2.98937207e-03,   4.33310652e-03,   5.04198115e-04,\n",
       "         2.67524965e-03,   4.88294441e-03,   2.82967030e-06,\n",
       "         1.44415905e-03,   1.86501152e-04,   7.47217908e-05,\n",
       "         3.85894261e-05,   6.61209673e-04,   2.32755537e-04,\n",
       "         4.61279412e-05,   1.07246046e-05,   8.22916716e-05,\n",
       "         1.47938094e-04,   1.26629594e-04,   2.28527003e-03,\n",
       "         7.17497709e-04,   2.34068216e-04,   3.83323439e-04,\n",
       "         1.40264620e-05,   2.45515551e-03,   1.33230593e-03,\n",
       "         2.05788711e-03,   5.36911290e-04,   1.06754285e-05,\n",
       "         1.72306201e-03,   1.83710530e-03,   8.03805456e-04,\n",
       "         4.14970506e-04,   8.04829095e-03,   8.45493798e-03,\n",
       "         1.72351819e-04,   5.38953883e-03,   1.81023982e-03,\n",
       "         2.81128949e-04,   1.57581030e-03,   2.84535626e-04,\n",
       "         2.12704396e-04,   4.66979361e-03,   1.60854791e-04,\n",
       "         1.92975361e-03,   2.82910931e-03,   9.72491854e-05,\n",
       "         2.81237368e-04,   1.64048432e-03,   1.79695259e-03,\n",
       "         8.18947922e-05,   1.52648196e-03,   3.54045579e-04,\n",
       "         4.43140998e-04,   7.99798046e-03,   1.86174780e-03,\n",
       "         3.36792384e-04,   1.71891541e-03,   1.36055438e-04,\n",
       "         3.43756400e-03,   3.42755379e-04,   2.89557877e-05,\n",
       "         3.17616055e-06,   1.95486209e-03,   1.10028496e-03,\n",
       "         6.06146106e-04,   5.41335976e-03,   9.36117165e-04,\n",
       "         3.84271020e-03,   2.23782420e-04,   2.34934691e-03,\n",
       "         3.78475624e-03,   8.18561061e-03,   3.94077079e-03,\n",
       "         1.24745795e-02,   4.73248092e-03,   5.98615807e-03,\n",
       "         2.95152082e-04,   9.05148151e-03,   4.59956148e-03,\n",
       "         6.85915058e-03,   7.16050128e-03,   6.75111153e-03,\n",
       "         1.61198483e-02,   5.29382105e-03,   1.14428537e-02,\n",
       "         1.59044601e-03,   2.41697430e-02,   3.78046681e-02,\n",
       "         2.94307380e-02,   9.32146881e-02,   2.64886123e-02,\n",
       "         5.52304890e-02,   1.66180816e-02,   1.93626330e-04,\n",
       "         3.89034252e-04,   4.12447620e-02,   3.49251231e-01,\n",
       "         1.79839788e-02,   6.31355349e-03,   8.79542321e-03,\n",
       "         2.03491268e-02])"
      ]
     },
     "execution_count": 15,
     "metadata": {},
     "output_type": "execute_result"
    }
   ],
   "source": [
    "clf = ExtraTreesRegressor(random_state=42)\n",
    "clf = clf.fit(X_train, y_train)\n",
    "clf.feature_importances_      "
   ]
  },
  {
   "cell_type": "code",
   "execution_count": 16,
   "metadata": {},
   "outputs": [
    {
     "data": {
      "text/plain": [
       "(6012L, 17L)"
      ]
     },
     "execution_count": 16,
     "metadata": {},
     "output_type": "execute_result"
    }
   ],
   "source": [
    "model = SelectFromModel(clf, prefit=True)\n",
    "X_new = model.transform(X_train)\n",
    "X_new.shape"
   ]
  },
  {
   "cell_type": "code",
   "execution_count": 31,
   "metadata": {},
   "outputs": [
    {
     "data": {
      "text/plain": [
       "[(u'Points', 0.34925123076683889),\n",
       " (u'WCSentEng', 0.093214688073219559),\n",
       " (u'NegCloud', 0.05523048901280446),\n",
       " (u'RevLen', 0.041244761973345645),\n",
       " (u'WordCloudHigh', 0.0378046680843835),\n",
       " (u'WordCloudHighGer', 0.029430737999222911),\n",
       " (u'WCSentGer', 0.026488612283481993),\n",
       " (u'review_count', 0.024169742996141424),\n",
       " (u'funny', 0.02034912677279568),\n",
       " (u'TriLowProb', 0.017983978837789762),\n",
       " (u'WordCloudHighTri', 0.016618081592012252),\n",
       " (u'main_cat_Others', 0.016119848283084846),\n",
       " (u'main_cat_Beauty & Spas', 0.012474579512593327),\n",
       " (u'main_cat_Shopping', 0.011442853735780927),\n",
       " (u'district_17', 0.010849053559709918),\n",
       " (u'main_cat_Food', 0.009051481507040238),\n",
       " (u'TriHighProb', 0.0087954232085630298)]"
      ]
     },
     "execution_count": 31,
     "metadata": {},
     "output_type": "execute_result"
    }
   ],
   "source": [
    "# Ordenamos la lista de features por importancia \n",
    "sorted(zip(features, clf.feature_importances_), key = lambda x: x[1])[::-1][:17]"
   ]
  },
  {
   "cell_type": "markdown",
   "metadata": {},
   "source": [
    "### Correlation Matrix"
   ]
  },
  {
   "cell_type": "code",
   "execution_count": 21,
   "metadata": {},
   "outputs": [
    {
     "data": {
      "text/plain": [
       "Index([u'main_cat_Arts & Entertainment', u'main_cat_Automotive',\n",
       "       u'main_cat_Bars', u'main_cat_Beauty & Spas', u'main_cat_Coffee & Tea',\n",
       "       u'main_cat_Event Planning & Services', u'main_cat_Fashion',\n",
       "       u'main_cat_Food', u'main_cat_Health & Medical',\n",
       "       u'main_cat_Home Services', u'main_cat_Hotels & Travel',\n",
       "       u'main_cat_Nightlife', u'main_cat_Others', u'main_cat_Pets',\n",
       "       u'main_cat_Shopping', u'likes', u'review_count', u'WordCloudHigh',\n",
       "       u'WordCloudHighGer', u'WCSentEng', u'WCSentGer', u'NegCloud',\n",
       "       u'WordCloudHighTri', u'WordCloudHighTriTail', u'WCSentAllTriTail',\n",
       "       u'RevLen', u'Points', u'TriLowProb', u'TriMedProb', u'TriHighProb',\n",
       "       u'funny', u'stars'],\n",
       "      dtype='object')"
      ]
     },
     "execution_count": 21,
     "metadata": {},
     "output_type": "execute_result"
    }
   ],
   "source": [
    "# Graficamos la matriz de correlación para las últimas columnas (numéricas) del dataset...\n",
    "data.columns[-32:]"
   ]
  },
  {
   "cell_type": "code",
   "execution_count": 22,
   "metadata": {
    "collapsed": true
   },
   "outputs": [],
   "source": [
    "c = list(data.columns[-32:])"
   ]
  },
  {
   "cell_type": "code",
   "execution_count": 23,
   "metadata": {
    "collapsed": true
   },
   "outputs": [],
   "source": [
    "corr = data[c].corr()"
   ]
  },
  {
   "cell_type": "code",
   "execution_count": 24,
   "metadata": {},
   "outputs": [
    {
     "data": {
      "text/plain": [
       "<matplotlib.axes._subplots.AxesSubplot at 0x172a1fd0>"
      ]
     },
     "execution_count": 24,
     "metadata": {},
     "output_type": "execute_result"
    },
    {
     "data": {
      "image/png": "[encoded data removed]",
      "text/plain": [
       "<matplotlib.figure.Figure at 0xce14c88>"
      ]
     },
     "metadata": {},
     "output_type": "display_data"
    }
   ],
   "source": [
    "plt.figure(figsize=(12,12))\n",
    "sns.heatmap(corr)"
   ]
  },
  {
   "cell_type": "markdown",
   "metadata": {},
   "source": [
    "### Feature Selection using Lasso Regression"
   ]
  },
  {
   "cell_type": "code",
   "execution_count": 25,
   "metadata": {
    "collapsed": true
   },
   "outputs": [],
   "source": [
    "from sklearn import linear_model"
   ]
  },
  {
   "cell_type": "code",
   "execution_count": 26,
   "metadata": {},
   "outputs": [
    {
     "data": {
      "text/plain": [
       "Lasso(alpha=0.1, copy_X=True, fit_intercept=True, max_iter=1000,\n",
       "   normalize=False, positive=False, precompute=False, random_state=42,\n",
       "   selection='cyclic', tol=0.0001, warm_start=False)"
      ]
     },
     "execution_count": 26,
     "metadata": {},
     "output_type": "execute_result"
    }
   ],
   "source": [
    "vs = linear_model.Lasso(alpha=0.1, random_state=42)\n",
    "vs.fit(X_train, y_train)"
   ]
  },
  {
   "cell_type": "code",
   "execution_count": 27,
   "metadata": {},
   "outputs": [
    {
     "data": {
      "text/plain": [
       "(array([-0.        , -0.        ,  0.        , -0.        ,  0.        ,\n",
       "        -0.        ,  0.        , -0.        , -0.        ,  0.        ,\n",
       "        -0.        , -0.        , -0.        , -0.        , -0.        ,\n",
       "        -0.        ,  0.        ,  0.        , -0.        , -0.        ,\n",
       "         0.        , -0.        , -0.        , -0.        , -0.        ,\n",
       "        -0.        , -0.        ,  0.        ,  0.        , -0.        ,\n",
       "        -0.        , -0.        ,  0.        ,  0.        , -0.        ,\n",
       "        -0.        ,  0.        ,  0.        ,  0.        , -0.        ,\n",
       "         0.        ,  0.        ,  0.        ,  0.        , -0.        ,\n",
       "         0.        , -0.        ,  0.        ,  0.        ,  0.        ,\n",
       "        -0.        ,  0.        , -0.        ,  0.        ,  0.        ,\n",
       "         0.        ,  0.        ,  0.        ,  0.        ,  0.        ,\n",
       "         0.        ,  0.        ,  0.        ,  0.        ,  0.        ,\n",
       "        -0.        , -0.        ,  0.        ,  0.        ,  0.        ,\n",
       "         0.        ,  0.        ,  0.        ,  0.        ,  0.        ,\n",
       "         0.        ,  0.        ,  0.        , -0.        ,  0.        ,\n",
       "         0.        ,  0.        , -0.        , -0.        ,  0.        ,\n",
       "        -0.        ,  0.        ,  0.        ,  0.        , -0.        ,\n",
       "        -0.        ,  0.        ,  0.        , -0.        , -0.        ,\n",
       "        -0.        ,  0.        ,  0.        , -0.        ,  0.        ,\n",
       "         0.        , -0.        ,  0.        ,  0.03684229,  0.        ,\n",
       "         0.        , -0.        ,  0.        ,  0.        ,  0.        ,\n",
       "         0.35181878, -0.        , -0.        ,  0.        ,  0.        ]),\n",
       " 3.7314930315204808)"
      ]
     },
     "execution_count": 27,
     "metadata": {},
     "output_type": "execute_result"
    }
   ],
   "source": [
    "# Éstos son los coeficientes (2) de las variables seleccionadas tras la penalización.\n",
    "vs.coef_, vs.intercept_"
   ]
  },
  {
   "cell_type": "code",
   "execution_count": 9,
   "metadata": {},
   "outputs": [
    {
     "data": {
      "text/plain": [
       "(u'Points', u'WCSentEng')"
      ]
     },
     "execution_count": 9,
     "metadata": {},
     "output_type": "execute_result"
    }
   ],
   "source": [
    "# Variables incluidas usando Lasso\n",
    "features[-5], features[-12]"
   ]
  },
  {
   "cell_type": "code",
   "execution_count": 28,
   "metadata": {
    "collapsed": true
   },
   "outputs": [],
   "source": [
    "prd = vs.predict(X_test)"
   ]
  },
  {
   "cell_type": "code",
   "execution_count": 29,
   "metadata": {},
   "outputs": [
    {
     "data": {
      "text/plain": [
       "array([ 3.58099395,  3.67140975,  3.93096655, ...,  3.28050911,\n",
       "        3.22970906,  4.05861506])"
      ]
     },
     "execution_count": 29,
     "metadata": {},
     "output_type": "execute_result"
    }
   ],
   "source": [
    "prd"
   ]
  },
  {
   "cell_type": "code",
   "execution_count": 30,
   "metadata": {},
   "outputs": [
    {
     "data": {
      "text/plain": [
       "0.41735451913545729"
      ]
     },
     "execution_count": 30,
     "metadata": {},
     "output_type": "execute_result"
    }
   ],
   "source": [
    "from sklearn.metrics import mean_squared_error\n",
    "mean_squared_error(prd, y_test)"
   ]
  },
  {
   "cell_type": "code",
   "execution_count": null,
   "metadata": {
    "collapsed": true
   },
   "outputs": [],
   "source": []
  }
 ],
 "metadata": {
  "anaconda-cloud": {},
  "kernelspec": {
   "display_name": "Python [default]",
   "language": "python",
   "name": "python2"
  },
  "language_info": {
   "codemirror_mode": {
    "name": "ipython",
    "version": 2
   },
   "file_extension": ".py",
   "mimetype": "text/x-python",
   "name": "python",
   "nbconvert_exporter": "python",
   "pygments_lexer": "ipython2",
   "version": "2.7.12"
  }
 },
 "nbformat": 4,
 "nbformat_minor": 2
}
