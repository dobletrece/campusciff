{
 "cells": [
  {
   "cell_type": "markdown",
   "metadata": {},
   "source": [
    "## Variable Selection"
   ]
  },
  {
   "cell_type": "code",
   "execution_count": 1,
   "metadata": {},
   "outputs": [
    {
     "name": "stdout",
     "output_type": "stream",
     "text": [
      "Using matplotlib backend: Qt5Agg\n",
      "Populating the interactive namespace from numpy and matplotlib\n"
     ]
    }
   ],
   "source": [
    "import numpy as np\n",
    "import pandas as pd\n",
    "import matplotlib.pyplot as plt\n",
    "import seaborn as sns\n",
    "%pylab\n",
    "%matplotlib inline"
   ]
  },
  {
   "cell_type": "code",
   "execution_count": 2,
   "metadata": {
    "collapsed": true
   },
   "outputs": [],
   "source": [
    "data = pd.read_csv('data_norm_vif_v2.csv', sep=';', encoding='utf-8')"
   ]
  },
  {
   "cell_type": "code",
   "execution_count": 3,
   "metadata": {
    "collapsed": true
   },
   "outputs": [],
   "source": [
    "features = list(data.columns)\n",
    "features.remove('stars')"
   ]
  },
  {
   "cell_type": "code",
   "execution_count": 4,
   "metadata": {
    "collapsed": true
   },
   "outputs": [],
   "source": [
    "from sklearn.model_selection import train_test_split\n",
    "\n",
    "X_train, X_test, y_train, y_test = train_test_split(data[features], data['stars'], test_size=0.25, random_state=42)"
   ]
  },
  {
   "cell_type": "code",
   "execution_count": 5,
   "metadata": {},
   "outputs": [
    {
     "data": {
      "text/plain": [
       "(pandas.core.series.Series, pandas.core.frame.DataFrame)"
      ]
     },
     "execution_count": 5,
     "metadata": {},
     "output_type": "execute_result"
    }
   ],
   "source": [
    "type(y_train), type(X_train)"
   ]
  },
  {
   "cell_type": "markdown",
   "metadata": {},
   "source": [
    "## Feature Selection (From Variable selection notebook)"
   ]
  },
  {
   "cell_type": "code",
   "execution_count": 6,
   "metadata": {},
   "outputs": [
    {
     "data": {
      "text/plain": [
       "Index([u'district_1', u'district_10', u'district_11', u'district_12',\n",
       "       u'district_13', u'district_14', u'district_15', u'district_16',\n",
       "       u'district_17', u'district_18',\n",
       "       ...\n",
       "       u'WordCloudHighTri', u'WordCloudHighTriTail', u'WCSentAllTriTail',\n",
       "       u'RevLen', u'Points', u'TriLowProb', u'TriMedProb', u'TriHighProb',\n",
       "       u'funny', u'stars'],\n",
       "      dtype='object', length=116)"
      ]
     },
     "execution_count": 6,
     "metadata": {},
     "output_type": "execute_result"
    }
   ],
   "source": [
    "data.columns"
   ]
  },
  {
   "cell_type": "code",
   "execution_count": 7,
   "metadata": {},
   "outputs": [
    {
     "data": {
      "text/plain": [
       "(['Points',\n",
       "  'WCSentEng',\n",
       "  'NegCloud',\n",
       "  'RevLen',\n",
       "  'WordCloudHigh',\n",
       "  'WordCloudHighGer',\n",
       "  'WCSentGer',\n",
       "  'review_count',\n",
       "  'funny',\n",
       "  'TriLowProb',\n",
       "  'WordCloudHighTri',\n",
       "  'main_cat_Others',\n",
       "  'main_cat_Beauty & Spas',\n",
       "  'main_cat_Shopping',\n",
       "  'main_cat_Food',\n",
       "  'TriHighProb'],\n",
       " 16)"
      ]
     },
     "execution_count": 7,
     "metadata": {},
     "output_type": "execute_result"
    }
   ],
   "source": [
    "# Personalize feature selection \n",
    "cols_sel =  ['Points', 'WCSentEng', 'NegCloud', 'RevLen', 'WordCloudHigh', 'WordCloudHighGer', 'WCSentGer', 'review_count', 'funny', 'TriLowProb', 'WordCloudHighTri', 'main_cat_Others', 'main_cat_Beauty & Spas', 'main_cat_Shopping', 'main_cat_Food', 'TriHighProb']\n",
    "cols_sel, len(cols_sel)"
   ]
  },
  {
   "cell_type": "code",
   "execution_count": 8,
   "metadata": {
    "collapsed": true
   },
   "outputs": [],
   "source": [
    "X_train2 = X_train[cols_sel]\n",
    "X_test2 = X_test[cols_sel]"
   ]
  },
  {
   "cell_type": "markdown",
   "metadata": {
    "collapsed": true
   },
   "source": [
    "## Regression Model --------------------------------------------------------------------------------------------------"
   ]
  },
  {
   "cell_type": "code",
   "execution_count": 9,
   "metadata": {
    "collapsed": true
   },
   "outputs": [],
   "source": [
    "import matplotlib.pyplot as plt\n",
    "import numpy as np\n",
    "from sklearn import datasets, linear_model\n",
    "from sklearn.metrics import mean_squared_error, r2_score"
   ]
  },
  {
   "cell_type": "code",
   "execution_count": 16,
   "metadata": {},
   "outputs": [
    {
     "name": "stdout",
     "output_type": "stream",
     "text": [
      "Mean Squared Error Train: 0.374269468314\n",
      "Mean Squared Error Validation: 0.361941854399\n",
      "r2 Train:      0.428263648605\n",
      "r2 Validation: 0.415639161043\n"
     ]
    }
   ],
   "source": [
    "#linear_model.LinearRegression() with all columns \n",
    "\n",
    "LinReg = linear_model.LinearRegression().fit(X_train, y_train)\n",
    "print 'Mean Squared Error Train:', mean_squared_error(y_train, LinReg.predict(X_train)) \n",
    "print 'Mean Squared Error Validation:', mean_squared_error(y_test, LinReg.predict(X_test)) \n",
    "print 'r2 Train:     ',LinReg.score(X_train,y_train)\n",
    "print 'r2 Validation:',LinReg.score(X_test,y_test)"
   ]
  },
  {
   "cell_type": "code",
   "execution_count": 11,
   "metadata": {},
   "outputs": [
    {
     "name": "stdout",
     "output_type": "stream",
     "text": [
      "Mean Squared Error Train: 0.398353814096\n",
      "Mean Squared Error Validation: 0.37845903661\n",
      "r2 Train:      0.391472253236\n",
      "r2 Validation: 0.38897190956\n"
     ]
    }
   ],
   "source": [
    "#linear_model.LinearRegression() with selected columns\n",
    "\n",
    "LinReg = linear_model.LinearRegression().fit(X_train2, y_train)\n",
    "print 'Mean Squared Error Train:', mean_squared_error(y_train, LinReg.predict(X_train2)) \n",
    "print 'Mean Squared Error Validation:', mean_squared_error(y_test, LinReg.predict(X_test2)) \n",
    "print 'r2 Train:     ',LinReg.score(X_train2,y_train)\n",
    "print 'r2 Validation:',LinReg.score(X_test2,y_test)"
   ]
  },
  {
   "cell_type": "markdown",
   "metadata": {},
   "source": [
    "## Lasso Model --------------------------------------------------------------------------------------------------"
   ]
  },
  {
   "cell_type": "code",
   "execution_count": 14,
   "metadata": {},
   "outputs": [
    {
     "name": "stdout",
     "output_type": "stream",
     "text": [
      "Mean Squared Error Train: 0.438534906446\n",
      "Mean Squared Error Validation: 0.417354519135\n"
     ]
    }
   ],
   "source": [
    "vs = linear_model.Lasso(alpha=0.1, random_state=42)\n",
    "vs.fit(X_train, y_train)\n",
    "print 'Mean Squared Error Train:', mean_squared_error(y_train, vs.predict(X_train)) \n",
    "print 'Mean Squared Error Validation:', mean_squared_error(y_test, vs.predict(X_test)) "
   ]
  },
  {
   "cell_type": "code",
   "execution_count": 15,
   "metadata": {},
   "outputs": [
    {
     "name": "stdout",
     "output_type": "stream",
     "text": [
      "Mean Squared Error Train: 0.398451279398\n",
      "Mean Squared Error Validation: 0.378227525385\n"
     ]
    }
   ],
   "source": [
    "vs = linear_model.Lasso(alpha=0.001, random_state=42)\n",
    "vs.fit(X_train2, y_train)\n",
    "print 'Mean Squared Error Train:', mean_squared_error(y_train, vs.predict(X_train2)) \n",
    "print 'Mean Squared Error Validation:', mean_squared_error(y_test, vs.predict(X_test2)) "
   ]
  },
  {
   "cell_type": "code",
   "execution_count": 16,
   "metadata": {},
   "outputs": [
    {
     "name": "stdout",
     "output_type": "stream",
     "text": [
      "Mean Squared Error Train: 0.383253503766\n",
      "Mean Squared Error Validation: 0.363746073229\n"
     ]
    }
   ],
   "source": [
    "vs = linear_model.Lasso(alpha=0.001, random_state=42)\n",
    "vs.fit(X_train, y_train)\n",
    "print 'Mean Squared Error Train:', mean_squared_error(y_train, vs.predict(X_train)) \n",
    "print 'Mean Squared Error Validation:', mean_squared_error(y_test, vs.predict(X_test)) "
   ]
  },
  {
   "cell_type": "markdown",
   "metadata": {},
   "source": [
    "## Random Forest --------------------------------------------------------------------------------------------------------\n"
   ]
  },
  {
   "cell_type": "code",
   "execution_count": 61,
   "metadata": {},
   "outputs": [
    {
     "data": {
      "text/plain": [
       "-0.34233674341251225"
      ]
     },
     "execution_count": 61,
     "metadata": {},
     "output_type": "execute_result"
    }
   ],
   "source": [
    "from sklearn.ensemble import RandomForestRegressor\n",
    "from sklearn.model_selection import ParameterGrid, GridSearchCV\n",
    "\n",
    "param_grid = {\n",
    "   'n_estimators': [50,100,150],\n",
    "   'max_features': [0.3,0.5,0.7,'log2','sqrt'],\n",
    "   'max_depth': [10,14]\n",
    "    }\n",
    "\n",
    "lista = list(ParameterGrid(param_grid))\n",
    "len(lista)\n",
    "rfr=RandomForestRegressor(random_state=1)\n",
    "\n",
    "gs = GridSearchCV(estimator=rfr, param_grid=param_grid, cv=10, scoring='neg_mean_squared_error')\n",
    "gs.fit(X_train, y_train)\n",
    "gs.best_score_"
   ]
  },
  {
   "cell_type": "code",
   "execution_count": 62,
   "metadata": {},
   "outputs": [
    {
     "data": {
      "text/plain": [
       "{'max_depth': 14, 'max_features': 0.5, 'n_estimators': 150}"
      ]
     },
     "execution_count": 62,
     "metadata": {},
     "output_type": "execute_result"
    }
   ],
   "source": [
    "gs.best_params_"
   ]
  },
  {
   "cell_type": "code",
   "execution_count": 63,
   "metadata": {},
   "outputs": [
    {
     "name": "stdout",
     "output_type": "stream",
     "text": [
      "Mean Squared Error Train: 0.128306844718\n",
      "Mean Squared Error Validation: 0.328762216347\n"
     ]
    }
   ],
   "source": [
    "RandFor = RandomForestRegressor(random_state=1, max_depth= 14, max_features= 0.5, n_estimators= 150).fit(X_train, y_train)\n",
    "print 'Mean Squared Error Train:', mean_squared_error(y_train, RandFor.predict(X_train)) \n",
    "print 'Mean Squared Error Validation:', mean_squared_error(y_test, RandFor.predict(X_test)) "
   ]
  },
  {
   "cell_type": "code",
   "execution_count": 68,
   "metadata": {},
   "outputs": [
    {
     "name": "stdout",
     "output_type": "stream",
     "text": [
      "Mean Squared Error Train: 0.127659655061\n",
      "Mean Squared Error Validation: 0.328167981924\n"
     ]
    }
   ],
   "source": [
    "RandFor = RandomForestRegressor(random_state=1, max_depth= 14, max_features= 0.5, n_estimators= 250).fit(X_train, y_train)\n",
    "print 'Mean Squared Error Train:', mean_squared_error(y_train, RandFor.predict(X_train)) \n",
    "print 'Mean Squared Error Validation:', mean_squared_error(y_test, RandFor.predict(X_test)) "
   ]
  },
  {
   "cell_type": "markdown",
   "metadata": {},
   "source": [
    "## Gradient Boosting Regressor ----------------------------------------------------------------------------------\n"
   ]
  },
  {
   "cell_type": "markdown",
   "metadata": {},
   "source": [
    "## Gradient Boosting Regressor n_estimators: 100, max_depth:1, loss: ls"
   ]
  },
  {
   "cell_type": "code",
   "execution_count": 17,
   "metadata": {
    "collapsed": true
   },
   "outputs": [],
   "source": [
    "import numpy as np\n",
    "from sklearn.metrics import mean_squared_error\n",
    "from sklearn.datasets import make_friedman1\n",
    "from sklearn.ensemble import BaggingClassifier\n",
    "from sklearn.neighbors import KNeighborsClassifier\n",
    "from sklearn.ensemble import GradientBoostingRegressor "
   ]
  },
  {
   "cell_type": "code",
   "execution_count": 18,
   "metadata": {},
   "outputs": [
    {
     "name": "stdout",
     "output_type": "stream",
     "text": [
      "Mean Squared Error Train: 0.370504266024\n",
      "Mean Squared Error Validation: 0.366803609199\n",
      "r2 Train:      0.434015394878\n",
      "r2 Validation: 0.407789781153\n"
     ]
    }
   ],
   "source": [
    "# With all columns\n",
    "est = GradientBoostingRegressor(n_estimators=100, learning_rate=0.1,\n",
    "                                 max_depth=1, random_state=0, loss='ls').fit(X_train, y_train)\n",
    "print 'Mean Squared Error Train:', mean_squared_error(y_train, est.predict(X_train)) \n",
    "print 'Mean Squared Error Validation:', mean_squared_error(y_test, est.predict(X_test)) \n",
    "print 'r2 Train:     ',est.score(X_train,y_train)\n",
    "print 'r2 Validation:',est.score(X_test,y_test)"
   ]
  },
  {
   "cell_type": "code",
   "execution_count": 19,
   "metadata": {},
   "outputs": [
    {
     "name": "stdout",
     "output_type": "stream",
     "text": [
      "Mean Squared Error Train: 0.371883837317\n",
      "Mean Squared Error Validation: 0.367441166362\n",
      "r2 Train:      0.431907953251\n",
      "r2 Validation: 0.406760435046\n"
     ]
    }
   ],
   "source": [
    "# With selected columns \n",
    "estColSels = GradientBoostingRegressor(n_estimators=100, learning_rate=0.1,\n",
    "                                 max_depth=1, random_state=0, loss='ls').fit(X_train2, y_train)\n",
    "print 'Mean Squared Error Train:', mean_squared_error(y_train, estColSels.predict(X_train2)) \n",
    "print 'Mean Squared Error Validation:', mean_squared_error(y_test, estColSels.predict(X_test2)) \n",
    "print 'r2 Train:     ',estColSels.score(X_train2,y_train)\n",
    "print 'r2 Validation:',estColSels.score(X_test2,y_test)"
   ]
  },
  {
   "cell_type": "markdown",
   "metadata": {},
   "source": [
    "## Gradient Boosting Regressor n_estimators: 200, max_depth:2, loss: ls"
   ]
  },
  {
   "cell_type": "code",
   "execution_count": 21,
   "metadata": {},
   "outputs": [
    {
     "name": "stdout",
     "output_type": "stream",
     "text": [
      "Mean Squared Error Train: 0.313703044306\n",
      "Mean Squared Error Validation: 0.34111327629\n",
      "r2 Train:      0.434015394878\n",
      "r2 Validation: 0.407789781153\n"
     ]
    }
   ],
   "source": [
    "# With all columns\n",
    "est200 = GradientBoostingRegressor(n_estimators=200, learning_rate=0.1,\n",
    "                                max_depth=2, random_state=0, loss='ls').fit(X_train, y_train)\n",
    "print 'Mean Squared Error Train:', mean_squared_error(y_train, est200.predict(X_train)) \n",
    "print 'Mean Squared Error Validation:', mean_squared_error(y_test, est200.predict(X_test)) \n",
    "print 'r2 Train:     ',est.score(X_train,y_train)\n",
    "print 'r2 Validation:',est.score(X_test,y_test)"
   ]
  },
  {
   "cell_type": "code",
   "execution_count": 22,
   "metadata": {},
   "outputs": [
    {
     "name": "stdout",
     "output_type": "stream",
     "text": [
      "Mean Squared Error Train: 0.316182292778\n",
      "Mean Squared Error Validation: 0.345190842203\n",
      "r2 Train:      0.516997976717\n",
      "r2 Validation: 0.44268393473\n"
     ]
    }
   ],
   "source": [
    "#With selected columns\n",
    "\n",
    "estColSels200 = GradientBoostingRegressor(n_estimators=200, learning_rate=0.1,\n",
    "                                 max_depth=2, random_state=0, loss='ls').fit(X_train2, y_train)\n",
    "print 'Mean Squared Error Train:', mean_squared_error(y_train, estColSels200.predict(X_train2)) \n",
    "print 'Mean Squared Error Validation:', mean_squared_error(y_test, estColSels200.predict(X_test2)) \n",
    "print 'r2 Train:     ',estColSels200.score(X_train2,y_train)\n",
    "print 'r2 Validation:',estColSels200.score(X_test2,y_test)"
   ]
  },
  {
   "cell_type": "markdown",
   "metadata": {},
   "source": [
    "## Gradient Boosting Regressor n_estimators: 100, max_depth:2, loss:huber"
   ]
  },
  {
   "cell_type": "code",
   "execution_count": 23,
   "metadata": {},
   "outputs": [
    {
     "name": "stdout",
     "output_type": "stream",
     "text": [
      "Mean Squared Error Train: 0.339558831736\n",
      "Mean Squared Error Validation: 0.349173076173\n",
      "r2 Train:      0.481287831425\n",
      "r2 Validation: 0.436254555108\n"
     ]
    }
   ],
   "source": [
    "#With all columns\n",
    "esthuber = GradientBoostingRegressor(n_estimators=100, learning_rate=0.1,\n",
    "                                 max_depth=2, random_state=0, loss='huber').fit(X_train, y_train)\n",
    "print 'Mean Squared Error Train:', mean_squared_error(y_train, esthuber.predict(X_train)) \n",
    "print 'Mean Squared Error Validation:', mean_squared_error(y_test, esthuber.predict(X_test)) \n",
    "print 'r2 Train:     ',esthuber.score(X_train,y_train)\n",
    "print 'r2 Validation:',esthuber.score(X_test,y_test)"
   ]
  },
  {
   "cell_type": "markdown",
   "metadata": {},
   "source": [
    "## Gradient Boosting Regressor n_estimators: 200, max_depth:2, loss:huber, learning_rate=0.1"
   ]
  },
  {
   "cell_type": "code",
   "execution_count": 24,
   "metadata": {},
   "outputs": [
    {
     "name": "stdout",
     "output_type": "stream",
     "text": [
      "Mean Squared Error Train: 0.316816576076\n",
      "Mean Squared Error Validation: 0.340251720851\n",
      "r2 Train:      0.516029041634\n",
      "r2 Validation: 0.450658224142\n"
     ]
    }
   ],
   "source": [
    "#With all columns\n",
    "estColSels3200 = GradientBoostingRegressor(n_estimators=200, learning_rate=0.1,\n",
    "                                 max_depth=2, random_state=0, loss='huber').fit(X_train, y_train)\n",
    "print 'Mean Squared Error Train:', mean_squared_error(y_train, estColSels3200.predict(X_train)) \n",
    "print 'Mean Squared Error Validation:', mean_squared_error(y_test, estColSels3200.predict(X_test)) \n",
    "print 'r2 Train:     ',estColSels3200.score(X_train,y_train)\n",
    "print 'r2 Validation:',estColSels3200.score(X_test,y_test)"
   ]
  },
  {
   "cell_type": "markdown",
   "metadata": {},
   "source": [
    "## Gradient Boosting Regressor n_estimators: 200, max_depth:3, loss:huber, learning_rate=0.09"
   ]
  },
  {
   "cell_type": "code",
   "execution_count": 41,
   "metadata": {},
   "outputs": [
    {
     "name": "stdout",
     "output_type": "stream",
     "text": [
      "Mean Squared Error Train: 0.279515017557\n",
      "Mean Squared Error Validation: 0.335877071132\n",
      "r2 Train:      0.573011132813\n",
      "r2 Validation: 0.457721165189\n"
     ]
    }
   ],
   "source": [
    "#With all columns\n",
    "estColSels3200 = GradientBoostingRegressor(n_estimators=200, learning_rate=0.09,\n",
    "                                 max_depth=3, random_state=0, loss='huber').fit(X_train, y_train)\n",
    "print 'Mean Squared Error Train:', mean_squared_error(y_train, estColSels3200.predict(X_train)) \n",
    "print 'Mean Squared Error Validation:', mean_squared_error(y_test, estColSels3200.predict(X_test)) \n",
    "print 'r2 Train:     ',estColSels3200.score(X_train,y_train)\n",
    "print 'r2 Validation:',estColSels3200.score(X_test,y_test)"
   ]
  },
  {
   "cell_type": "markdown",
   "metadata": {},
   "source": [
    "## Gradient Boosting Regressor n_estimators: 300, max_depth:3, loss:huber, learning_rate=0.08"
   ]
  },
  {
   "cell_type": "code",
   "execution_count": 26,
   "metadata": {},
   "outputs": [
    {
     "name": "stdout",
     "output_type": "stream",
     "text": [
      "Mean Squared Error Train: 0.267253735552\n",
      "Mean Squared Error Validation: 0.330667641945\n",
      "r2 Train:      0.591741542933\n",
      "r2 Validation: 0.466131870867\n"
     ]
    }
   ],
   "source": [
    "estColSels3200 = GradientBoostingRegressor(n_estimators=300, learning_rate=0.08,\n",
    "                                max_depth=3, random_state=0, loss='huber').fit(X_train, y_train)\n",
    "print 'Mean Squared Error Train:', mean_squared_error(y_train, estColSels3200.predict(X_train)) \n",
    "print 'Mean Squared Error Validation:', mean_squared_error(y_test, estColSels3200.predict(X_test)) \n",
    "print 'r2 Train:     ',estColSels3200.score(X_train,y_train)\n",
    "print 'r2 Validation:',estColSels3200.score(X_test,y_test)"
   ]
  },
  {
   "cell_type": "markdown",
   "metadata": {},
   "source": [
    "## Ensemble Gradient Boosting and Linear Regression"
   ]
  },
  {
   "cell_type": "code",
   "execution_count": 85,
   "metadata": {
    "collapsed": true
   },
   "outputs": [],
   "source": [
    "# Setup matrix to merge both models\n",
    "x = np.zeros((6012, 2))\n",
    "xtest = np.zeros((2004, 2))"
   ]
  },
  {
   "cell_type": "code",
   "execution_count": 91,
   "metadata": {},
   "outputs": [
    {
     "data": {
      "text/plain": [
       "(6012L, 2L)"
      ]
     },
     "execution_count": 91,
     "metadata": {},
     "output_type": "execute_result"
    }
   ],
   "source": [
    "# Merge of both models and predict for each of them\n",
    "\n",
    "estColSels3200.fit(X_train, y_train)\n",
    "LinReg.fit(X_train, y_train)\n",
    "\n",
    "x[:, 0] = estColSels3200.predict(X_train)\n",
    "x[:, 1] = LinReg.predict(X_train)\n",
    "\n",
    "x.shape"
   ]
  },
  {
   "cell_type": "code",
   "execution_count": 92,
   "metadata": {
    "collapsed": true
   },
   "outputs": [],
   "source": [
    "# Prediction for train\n",
    "xtest[:, 0] = estColSels3200.predict(X_test)\n",
    "xtest[:, 1] = LinReg.predict(X_test)"
   ]
  },
  {
   "cell_type": "code",
   "execution_count": 93,
   "metadata": {},
   "outputs": [
    {
     "name": "stdout",
     "output_type": "stream",
     "text": [
      "0.445214564323\n",
      "Mean Squared Error Train: 0.26101687767\n",
      "Mean Squared Error Validation: 0.34362341895\n"
     ]
    }
   ],
   "source": [
    "u = linear_model.LinearRegression().fit(x, y_train)\n",
    "\n",
    "print metrics.r2_score(y_test,u.predict(xtest))\n",
    "print 'Mean Squared Error Train:', mean_squared_error(y_train, u.predict(x)) \n",
    "print 'Mean Squared Error Validation:', mean_squared_error(y_test, u.predict(xtest)) "
   ]
  },
  {
   "cell_type": "code",
   "execution_count": null,
   "metadata": {
    "collapsed": true
   },
   "outputs": [],
   "source": []
  }
 ],
 "metadata": {
  "anaconda-cloud": {},
  "kernelspec": {
   "display_name": "Python [default]",
   "language": "python",
   "name": "python2"
  },
  "language_info": {
   "codemirror_mode": {
    "name": "ipython",
    "version": 2
   },
   "file_extension": ".py",
   "mimetype": "text/x-python",
   "name": "python",
   "nbconvert_exporter": "python",
   "pygments_lexer": "ipython2",
   "version": "2.7.12"
  }
 },
 "nbformat": 4,
 "nbformat_minor": 2
}
