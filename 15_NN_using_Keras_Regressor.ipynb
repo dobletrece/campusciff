{
 "cells": [
  {
   "cell_type": "markdown",
   "metadata": {},
   "source": [
    "## Neural Network using Keras Regressor"
   ]
  },
  {
   "cell_type": "code",
   "execution_count": 1,
   "metadata": {},
   "outputs": [
    {
     "name": "stdout",
     "output_type": "stream",
     "text": [
      "Using matplotlib backend: Qt5Agg\n",
      "Populating the interactive namespace from numpy and matplotlib\n"
     ]
    }
   ],
   "source": [
    "import numpy as np\n",
    "import pandas as pd\n",
    "import matplotlib.pyplot as plt\n",
    "import seaborn as sns\n",
    "%pylab\n",
    "%matplotlib inline"
   ]
  },
  {
   "cell_type": "code",
   "execution_count": 2,
   "metadata": {
    "collapsed": true
   },
   "outputs": [],
   "source": [
    "# Cargamos los datos\n",
    "data = pd.read_csv('data_norm_vif_v2.csv', sep=';', encoding='utf-8')"
   ]
  },
  {
   "cell_type": "code",
   "execution_count": 3,
   "metadata": {},
   "outputs": [
    {
     "data": {
      "text/plain": [
       "Index(['district_1', 'district_10', 'district_11', 'district_12',\n",
       "       'district_13', 'district_14', 'district_15', 'district_16',\n",
       "       'district_17', 'district_18',\n",
       "       ...\n",
       "       'WordCloudHighTri', 'WordCloudHighTriTail', 'WCSentAllTriTail',\n",
       "       'RevLen', 'Points', 'TriLowProb', 'TriMedProb', 'TriHighProb', 'funny',\n",
       "       'stars'],\n",
       "      dtype='object', length=116)"
      ]
     },
     "execution_count": 3,
     "metadata": {},
     "output_type": "execute_result"
    }
   ],
   "source": [
    "data.columns"
   ]
  },
  {
   "cell_type": "code",
   "execution_count": 4,
   "metadata": {
    "collapsed": true
   },
   "outputs": [],
   "source": [
    "features = list(data.columns)\n",
    "features.remove('stars')"
   ]
  },
  {
   "cell_type": "code",
   "execution_count": 5,
   "metadata": {
    "collapsed": true
   },
   "outputs": [],
   "source": [
    "# Realizamos el split \n",
    "from sklearn.model_selection import train_test_split\n",
    "X_train, X_test, y_train, y_test = train_test_split(data[features], data['stars'], test_size=0.25, random_state=42)"
   ]
  },
  {
   "cell_type": "code",
   "execution_count": 6,
   "metadata": {},
   "outputs": [
    {
     "data": {
      "text/plain": [
       "((6012, 115), (2004, 115), (6012,), (2004,))"
      ]
     },
     "execution_count": 6,
     "metadata": {},
     "output_type": "execute_result"
    }
   ],
   "source": [
    "X_train.shape, X_test.shape, y_train.shape, y_test.shape"
   ]
  },
  {
   "cell_type": "code",
   "execution_count": 7,
   "metadata": {},
   "outputs": [
    {
     "data": {
      "text/plain": [
       "(0.6546189819850016, 0.6193807494790937)"
      ]
     },
     "execution_count": 7,
     "metadata": {},
     "output_type": "execute_result"
    }
   ],
   "source": [
    "#el modelo tiene por error base mse en entrenamiento y en test:\n",
    "np.mean((y_train-np.mean(y_train))**2), np.mean((y_test-np.mean(y_test))**2)"
   ]
  },
  {
   "cell_type": "code",
   "execution_count": 8,
   "metadata": {
    "collapsed": true
   },
   "outputs": [],
   "source": [
    "from sklearn.ensemble import ExtraTreesRegressor\n",
    "from sklearn.feature_selection import SelectFromModel"
   ]
  },
  {
   "cell_type": "code",
   "execution_count": 9,
   "metadata": {},
   "outputs": [
    {
     "data": {
      "text/plain": [
       "array([  2.45193407e-03,   2.80305972e-03,   1.92045612e-03,\n",
       "         5.33371001e-03,   4.50010405e-03,   2.91813300e-03,\n",
       "         3.86670832e-03,   2.59856371e-03,   1.08490536e-02,\n",
       "         8.21617010e-05,   7.90735022e-03,   2.64891039e-03,\n",
       "         1.80049716e-04,   2.92718761e-03,   5.69007584e-03,\n",
       "         2.98937207e-03,   4.33310652e-03,   5.04198115e-04,\n",
       "         2.67524965e-03,   4.88294441e-03,   2.82967030e-06,\n",
       "         1.44415905e-03,   1.86501152e-04,   7.47217908e-05,\n",
       "         3.85894261e-05,   6.61209673e-04,   2.32755537e-04,\n",
       "         4.61279412e-05,   1.07246046e-05,   8.22916716e-05,\n",
       "         1.47938094e-04,   1.26629594e-04,   2.28527003e-03,\n",
       "         7.17497709e-04,   2.34068216e-04,   3.83323439e-04,\n",
       "         1.40264620e-05,   2.45515551e-03,   1.33230593e-03,\n",
       "         2.05788711e-03,   5.36911290e-04,   1.06754285e-05,\n",
       "         1.72306201e-03,   1.83710530e-03,   8.03805456e-04,\n",
       "         4.14970506e-04,   8.04829095e-03,   8.45493798e-03,\n",
       "         1.72351819e-04,   5.38953883e-03,   1.81023982e-03,\n",
       "         2.81128949e-04,   1.57581030e-03,   2.84535626e-04,\n",
       "         2.12704396e-04,   4.66979361e-03,   1.60854791e-04,\n",
       "         1.92975361e-03,   2.82910931e-03,   9.72491854e-05,\n",
       "         2.81237368e-04,   1.64048432e-03,   1.79695259e-03,\n",
       "         8.18947922e-05,   1.52648196e-03,   3.54045579e-04,\n",
       "         4.43140998e-04,   7.99798046e-03,   1.86174780e-03,\n",
       "         3.36792384e-04,   1.71891541e-03,   1.36055438e-04,\n",
       "         3.43756400e-03,   3.42755379e-04,   2.89557877e-05,\n",
       "         3.17616055e-06,   1.95486209e-03,   1.10028496e-03,\n",
       "         6.06146106e-04,   5.41335976e-03,   9.36117165e-04,\n",
       "         3.84271020e-03,   2.23782420e-04,   2.34934691e-03,\n",
       "         3.78475624e-03,   8.18561061e-03,   3.94077079e-03,\n",
       "         1.24745795e-02,   4.73248092e-03,   5.98615807e-03,\n",
       "         2.95152082e-04,   9.05148151e-03,   4.59956148e-03,\n",
       "         6.85915058e-03,   7.16050128e-03,   6.75111153e-03,\n",
       "         1.61198483e-02,   5.29382105e-03,   1.14428537e-02,\n",
       "         1.59044601e-03,   2.41697430e-02,   3.78046681e-02,\n",
       "         2.94307380e-02,   9.32146881e-02,   2.64886123e-02,\n",
       "         5.52304890e-02,   1.66180816e-02,   1.93626330e-04,\n",
       "         3.89034252e-04,   4.12447620e-02,   3.49251231e-01,\n",
       "         1.79839788e-02,   6.31355349e-03,   8.79542321e-03,\n",
       "         2.03491268e-02])"
      ]
     },
     "execution_count": 9,
     "metadata": {},
     "output_type": "execute_result"
    }
   ],
   "source": [
    "clf = ExtraTreesRegressor(random_state=42)\n",
    "clf = clf.fit(X_train, y_train)\n",
    "clf.feature_importances_      "
   ]
  },
  {
   "cell_type": "code",
   "execution_count": 10,
   "metadata": {},
   "outputs": [
    {
     "data": {
      "text/plain": [
       "(6012, 17)"
      ]
     },
     "execution_count": 10,
     "metadata": {},
     "output_type": "execute_result"
    }
   ],
   "source": [
    "model = SelectFromModel(clf, prefit=True)\n",
    "X_new = model.transform(X_train)\n",
    "X_new.shape"
   ]
  },
  {
   "cell_type": "code",
   "execution_count": 11,
   "metadata": {},
   "outputs": [
    {
     "data": {
      "text/plain": [
       "[('Points', 0.34925123076683934),\n",
       " ('WCSentEng', 0.093214688073218949),\n",
       " ('NegCloud', 0.05523048901280446),\n",
       " ('RevLen', 0.041244761973345645),\n",
       " ('WordCloudHigh', 0.0378046680843835),\n",
       " ('WordCloudHighGer', 0.029430737999222901),\n",
       " ('WCSentGer', 0.026488612283482028),\n",
       " ('review_count', 0.024169742996141403),\n",
       " ('funny', 0.02034912677279567),\n",
       " ('TriLowProb', 0.01798397883778979),\n",
       " ('WordCloudHighTri', 0.016618081592012335),\n",
       " ('main_cat_Others', 0.016119848283084708),\n",
       " ('main_cat_Beauty & Spas', 0.012474579512593327),\n",
       " ('main_cat_Shopping', 0.011442853735780939),\n",
       " ('district_17', 0.01084905355970992),\n",
       " ('main_cat_Food', 0.0090514815070402259),\n",
       " ('TriHighProb', 0.0087954232085630246)]"
      ]
     },
     "execution_count": 11,
     "metadata": {},
     "output_type": "execute_result"
    }
   ],
   "source": [
    "# Ordenamos las features por su importancia\n",
    "sorted(zip(features, clf.feature_importances_), key = lambda x: x[1])[::-1][:17]"
   ]
  },
  {
   "cell_type": "code",
   "execution_count": 12,
   "metadata": {
    "collapsed": true
   },
   "outputs": [],
   "source": [
    "most_imp = sorted(zip(features, clf.feature_importances_), key = lambda x: x[1])[::-1][:17]"
   ]
  },
  {
   "cell_type": "code",
   "execution_count": 13,
   "metadata": {
    "collapsed": true
   },
   "outputs": [],
   "source": [
    "cols_sel = [i[0] for i in most_imp]"
   ]
  },
  {
   "cell_type": "code",
   "execution_count": 14,
   "metadata": {},
   "outputs": [
    {
     "data": {
      "text/plain": [
       "['Points',\n",
       " 'WCSentEng',\n",
       " 'NegCloud',\n",
       " 'RevLen',\n",
       " 'WordCloudHigh',\n",
       " 'WordCloudHighGer',\n",
       " 'WCSentGer',\n",
       " 'review_count',\n",
       " 'funny',\n",
       " 'TriLowProb',\n",
       " 'WordCloudHighTri',\n",
       " 'main_cat_Others',\n",
       " 'main_cat_Beauty & Spas',\n",
       " 'main_cat_Shopping',\n",
       " 'district_17',\n",
       " 'main_cat_Food',\n",
       " 'TriHighProb']"
      ]
     },
     "execution_count": 14,
     "metadata": {},
     "output_type": "execute_result"
    }
   ],
   "source": [
    "cols_sel"
   ]
  },
  {
   "cell_type": "code",
   "execution_count": 15,
   "metadata": {
    "collapsed": true
   },
   "outputs": [],
   "source": [
    "cols_sel.remove('district_17')"
   ]
  },
  {
   "cell_type": "code",
   "execution_count": 16,
   "metadata": {},
   "outputs": [
    {
     "data": {
      "text/plain": [
       "16"
      ]
     },
     "execution_count": 16,
     "metadata": {},
     "output_type": "execute_result"
    }
   ],
   "source": [
    "len(cols_sel)"
   ]
  },
  {
   "cell_type": "code",
   "execution_count": 17,
   "metadata": {
    "collapsed": true
   },
   "outputs": [],
   "source": [
    "X_train2 = X_train[cols_sel]\n",
    "X_test2 = X_test[cols_sel]"
   ]
  },
  {
   "cell_type": "code",
   "execution_count": 18,
   "metadata": {},
   "outputs": [
    {
     "name": "stderr",
     "output_type": "stream",
     "text": [
      "Using TensorFlow backend.\n"
     ]
    }
   ],
   "source": [
    "from keras.models import Sequential\n",
    "from keras.layers import Dense\n",
    "from keras.wrappers.scikit_learn import KerasRegressor\n",
    "from sklearn.model_selection import cross_val_score\n",
    "from sklearn.model_selection import KFold\n",
    "from sklearn.preprocessing import StandardScaler\n",
    "from sklearn.pipeline import Pipeline\n",
    "from keras.callbacks import EarlyStopping"
   ]
  },
  {
   "cell_type": "code",
   "execution_count": 19,
   "metadata": {},
   "outputs": [
    {
     "name": "stdout",
     "output_type": "stream",
     "text": [
      "Train on 4809 samples, validate on 1203 samples\n",
      "Epoch 1/50\n",
      "4809/4809 [==============================] - 4s - loss: 1.1579 - mean_squared_error: 2.6431 - val_loss: 0.5101 - val_mean_squared_error: 0.4516\n",
      "Epoch 2/50\n",
      "4809/4809 [==============================] - 2s - loss: 0.4781 - mean_squared_error: 0.4013 - val_loss: 0.4757 - val_mean_squared_error: 0.3895\n",
      "Epoch 3/50\n",
      "4809/4809 [==============================] - 2s - loss: 0.4647 - mean_squared_error: 0.3782 - val_loss: 0.4765 - val_mean_squared_error: 0.3884\n",
      "Epoch 4/50\n",
      "4809/4809 [==============================] - 2s - loss: 0.4594 - mean_squared_error: 0.3700 - val_loss: 0.4646 - val_mean_squared_error: 0.3684\n",
      "Epoch 5/50\n",
      "4809/4809 [==============================] - 2s - loss: 0.4563 - mean_squared_error: 0.3651 - val_loss: 0.4641 - val_mean_squared_error: 0.3677. - ETA: 1s - loss: 0 - ETA: 0s - loss: 0.4569 - mean_squ\n",
      "Epoch 6/50\n",
      "4809/4809 [==============================] - 2s - loss: 0.4537 - mean_squared_error: 0.3618 - val_loss: 0.4724 - val_mean_squared_error: 0.3876- loss: 0 - ETA: 0s - loss: 0.4537 - mean_squared_err\n",
      "Epoch 7/50\n",
      "4809/4809 [==============================] - 3s - loss: 0.4538 - mean_squared_error: 0.3614 - val_loss: 0.4617 - val_mean_squared_error: 0.3744\n",
      "Epoch 8/50\n",
      "4809/4809 [==============================] - 5s - loss: 0.4487 - mean_squared_error: 0.3556 - val_loss: 0.4670 - val_mean_squared_error: 0.3798\n",
      "Epoch 9/50\n",
      "4809/4809 [==============================] - 5s - loss: 0.4490 - mean_squared_error: 0.3561 - val_loss: 0.4600 - val_mean_squared_error: 0.3695\n",
      "Epoch 10/50\n",
      "4809/4809 [==============================] - 4s - loss: 0.4487 - mean_squared_error: 0.3541 - val_loss: 0.4566 - val_mean_squared_error: 0.3566\n",
      "Epoch 11/50\n",
      "4809/4809 [==============================] - 4s - loss: 0.4470 - mean_squared_error: 0.3501 - val_loss: 0.4651 - val_mean_squared_error: 0.3750\n",
      "Epoch 12/50\n",
      "4809/4809 [==============================] - 3s - loss: 0.4464 - mean_squared_error: 0.3470 - val_loss: 0.4637 - val_mean_squared_error: 0.3736\n",
      "Epoch 13/50\n",
      "4809/4809 [==============================] - 5s - loss: 0.4456 - mean_squared_error: 0.3502 - val_loss: 0.4674 - val_mean_squared_error: 0.3783\n",
      "Epoch 14/50\n",
      "4809/4809 [==============================] - 3s - loss: 0.4459 - mean_squared_error: 0.3520 - val_loss: 0.4637 - val_mean_squared_error: 0.3725\n",
      "Epoch 15/50\n",
      "4809/4809 [==============================] - 5s - loss: 0.4436 - mean_squared_error: 0.3485 - val_loss: 0.4605 - val_mean_squared_error: 0.3636\n",
      "Epoch 16/50\n",
      "4809/4809 [==============================] - 5s - loss: 0.4414 - mean_squared_error: 0.3475 - val_loss: 0.4576 - val_mean_squared_error: 0.3577\n",
      "Epoch 17/50\n",
      "4809/4809 [==============================] - 3s - loss: 0.4431 - mean_squared_error: 0.3460 - val_loss: 0.4594 - val_mean_squared_error: 0.3704\n",
      "Epoch 18/50\n",
      "4809/4809 [==============================] - 3s - loss: 0.4401 - mean_squared_error: 0.3418 - val_loss: 0.4706 - val_mean_squared_error: 0.3830\n",
      "Epoch 19/50\n",
      "4809/4809 [==============================] - 3s - loss: 0.4405 - mean_squared_error: 0.3442 - val_loss: 0.4639 - val_mean_squared_error: 0.3769\n",
      "Epoch 20/50\n",
      "4809/4809 [==============================] - 3s - loss: 0.4407 - mean_squared_error: 0.3445 - val_loss: 0.4523 - val_mean_squared_error: 0.3563\n",
      "Epoch 21/50\n",
      "4809/4809 [==============================] - 3s - loss: 0.4404 - mean_squared_error: 0.3431 - val_loss: 0.4650 - val_mean_squared_error: 0.3741\n",
      "Epoch 22/50\n",
      "4809/4809 [==============================] - 2s - loss: 0.4389 - mean_squared_error: 0.3413 - val_loss: 0.4592 - val_mean_squared_error: 0.3660\n",
      "Epoch 23/50\n",
      "4809/4809 [==============================] - 3s - loss: 0.4384 - mean_squared_error: 0.3413 - val_loss: 0.4643 - val_mean_squared_error: 0.3775\n",
      "Epoch 24/50\n",
      "4809/4809 [==============================] - 2s - loss: 0.4393 - mean_squared_error: 0.3408 - val_loss: 0.4734 - val_mean_squared_error: 0.3976\n",
      "Epoch 25/50\n",
      "4809/4809 [==============================] - 3s - loss: 0.4381 - mean_squared_error: 0.3408 - val_loss: 0.4636 - val_mean_squared_error: 0.3706\n",
      "Epoch 26/50\n",
      "4809/4809 [==============================] - 4s - loss: 0.4395 - mean_squared_error: 0.3435 - val_loss: 0.4626 - val_mean_squared_error: 0.3750\n",
      "Epoch 27/50\n",
      "4809/4809 [==============================] - 2s - loss: 0.4382 - mean_squared_error: 0.3428 - val_loss: 0.4593 - val_mean_squared_error: 0.3661\n",
      "Epoch 28/50\n",
      "4809/4809 [==============================] - 2s - loss: 0.4373 - mean_squared_error: 0.3406 - val_loss: 0.4602 - val_mean_squared_error: 0.3589\n",
      "Epoch 29/50\n",
      "4809/4809 [==============================] - 2s - loss: 0.4369 - mean_squared_error: 0.3376 - val_loss: 0.4607 - val_mean_squared_error: 0.3620\n",
      "Epoch 30/50\n",
      "4809/4809 [==============================] - 4s - loss: 0.4364 - mean_squared_error: 0.3399 - val_loss: 0.4560 - val_mean_squared_error: 0.3611\n",
      "Epoch 31/50\n",
      "4809/4809 [==============================] - 3s - loss: 0.4356 - mean_squared_error: 0.3385 - val_loss: 0.4694 - val_mean_squared_error: 0.3781\n",
      "Epoch 00030: early stopping\n",
      "2004/2004 [==============================] - 0s\n"
     ]
    },
    {
     "data": {
      "text/plain": [
       "[0.46380159258842468, 0.37635517120361328]"
      ]
     },
     "execution_count": 19,
     "metadata": {},
     "output_type": "execute_result"
    }
   ],
   "source": [
    "# Primera red con 1 capa de entrada (16n) y una capa de salida (1n)\n",
    "model = Sequential()\n",
    "model.add(Dense(16, kernel_initializer='uniform', activation='relu', input_shape=(X_train2.shape[1],)))\n",
    "model.add(Dense(1, activation='linear'))\n",
    "model.compile(loss='mae', optimizer='adam',metrics=['mse'])  \n",
    "\n",
    "early_stop = EarlyStopping(monitor='val_mean_squared_error', patience=10, verbose=1)\n",
    "\n",
    "model.fit(X_train2.values, y_train.values, epochs=50, validation_split=0.2,\n",
    "          batch_size=4, callbacks=[early_stop])\n",
    "\n",
    "score = model.evaluate(X_test2.values, y_test.values, batch_size=len(y_test))\n",
    "score"
   ]
  },
  {
   "cell_type": "code",
   "execution_count": 20,
   "metadata": {},
   "outputs": [
    {
     "name": "stdout",
     "output_type": "stream",
     "text": [
      "Train on 4809 samples, validate on 1203 samples\n",
      "Epoch 1/50\n",
      "4809/4809 [==============================] - 4s - loss: 0.8910 - mean_squared_error: 1.8466 - val_loss: 0.5102 - val_mean_squared_error: 0.4535\n",
      "Epoch 2/50\n",
      "4809/4809 [==============================] - 3s - loss: 0.4823 - mean_squared_error: 0.4100 - val_loss: 0.4895 - val_mean_squared_error: 0.4102\n",
      "Epoch 3/50\n",
      "4809/4809 [==============================] - 3s - loss: 0.4772 - mean_squared_error: 0.4018 - val_loss: 0.4844 - val_mean_squared_error: 0.4116\n",
      "Epoch 4/50\n",
      "4809/4809 [==============================] - 3s - loss: 0.4748 - mean_squared_error: 0.3982 - val_loss: 0.4833 - val_mean_squared_error: 0.4255\n",
      "Epoch 5/50\n",
      "4809/4809 [==============================] - 3s - loss: 0.4721 - mean_squared_error: 0.3919 - val_loss: 0.4882 - val_mean_squared_error: 0.4280\n",
      "Epoch 6/50\n",
      "4809/4809 [==============================] - 5s - loss: 0.4720 - mean_squared_error: 0.3920 - val_loss: 0.4743 - val_mean_squared_error: 0.3923\n",
      "Epoch 7/50\n",
      "4809/4809 [==============================] - 5s - loss: 0.4692 - mean_squared_error: 0.3899 - val_loss: 0.4819 - val_mean_squared_error: 0.4123\n",
      "Epoch 8/50\n",
      "4809/4809 [==============================] - 4s - loss: 0.4697 - mean_squared_error: 0.3901 - val_loss: 0.4760 - val_mean_squared_error: 0.4001\n",
      "Epoch 9/50\n",
      "4809/4809 [==============================] - 4s - loss: 0.4693 - mean_squared_error: 0.3893 - val_loss: 0.4770 - val_mean_squared_error: 0.4033\n",
      "Epoch 10/50\n",
      "4809/4809 [==============================] - 3s - loss: 0.4670 - mean_squared_error: 0.3866 - val_loss: 0.4794 - val_mean_squared_error: 0.4165\n",
      "Epoch 11/50\n",
      "4809/4809 [==============================] - 2s - loss: 0.4668 - mean_squared_error: 0.3877 - val_loss: 0.4752 - val_mean_squared_error: 0.3944\n",
      "Epoch 12/50\n",
      "4809/4809 [==============================] - 5s - loss: 0.4674 - mean_squared_error: 0.3846 - val_loss: 0.4812 - val_mean_squared_error: 0.4123\n",
      "Epoch 13/50\n",
      "4809/4809 [==============================] - 3s - loss: 0.4664 - mean_squared_error: 0.3857 - val_loss: 0.4802 - val_mean_squared_error: 0.4092\n",
      "Epoch 14/50\n",
      "4809/4809 [==============================] - 5s - loss: 0.4645 - mean_squared_error: 0.3818 - val_loss: 0.4781 - val_mean_squared_error: 0.4116\n",
      "Epoch 15/50\n",
      "4809/4809 [==============================] - 3s - loss: 0.4649 - mean_squared_error: 0.3835 - val_loss: 0.4775 - val_mean_squared_error: 0.4033\n",
      "Epoch 16/50\n",
      "4809/4809 [==============================] - 2s - loss: 0.4642 - mean_squared_error: 0.3855 - val_loss: 0.4787 - val_mean_squared_error: 0.4077\n",
      "Epoch 17/50\n",
      "4809/4809 [==============================] - 5s - loss: 0.4648 - mean_squared_error: 0.3838 - val_loss: 0.4732 - val_mean_squared_error: 0.3884\n",
      "Epoch 18/50\n",
      "4809/4809 [==============================] - 3s - loss: 0.4615 - mean_squared_error: 0.3778 - val_loss: 0.4778 - val_mean_squared_error: 0.4071\n",
      "Epoch 19/50\n",
      "4809/4809 [==============================] - 4s - loss: 0.4627 - mean_squared_error: 0.3812 - val_loss: 0.4771 - val_mean_squared_error: 0.4137\n",
      "Epoch 20/50\n",
      "4809/4809 [==============================] - 3s - loss: 0.4633 - mean_squared_error: 0.3824 - val_loss: 0.4759 - val_mean_squared_error: 0.3956\n",
      "Epoch 21/50\n",
      "4809/4809 [==============================] - 5s - loss: 0.4630 - mean_squared_error: 0.3801 - val_loss: 0.4843 - val_mean_squared_error: 0.4063\n",
      "Epoch 22/50\n",
      "4809/4809 [==============================] - 5s - loss: 0.4621 - mean_squared_error: 0.3777 - val_loss: 0.4756 - val_mean_squared_error: 0.4000\n",
      "Epoch 23/50\n",
      "4809/4809 [==============================] - 3s - loss: 0.4635 - mean_squared_error: 0.3820 - val_loss: 0.4737 - val_mean_squared_error: 0.3953\n",
      "Epoch 24/50\n",
      "4809/4809 [==============================] - 4s - loss: 0.4625 - mean_squared_error: 0.3813 - val_loss: 0.4802 - val_mean_squared_error: 0.4170\n",
      "Epoch 25/50\n",
      "4809/4809 [==============================] - 4s - loss: 0.4617 - mean_squared_error: 0.3803 - val_loss: 0.5080 - val_mean_squared_error: 0.4640\n",
      "Epoch 26/50\n",
      "4809/4809 [==============================] - 4s - loss: 0.4609 - mean_squared_error: 0.3781 - val_loss: 0.4783 - val_mean_squared_error: 0.4143\n",
      "Epoch 27/50\n",
      "4809/4809 [==============================] - 2s - loss: 0.4606 - mean_squared_error: 0.3804 - val_loss: 0.4769 - val_mean_squared_error: 0.4046ETA: 0s - loss: 0.4606 - me\n",
      "Epoch 28/50\n",
      "4809/4809 [==============================] - 2s - loss: 0.4607 - mean_squared_error: 0.3802 - val_loss: 0.4737 - val_mean_squared_error: 0.3994\n",
      "Epoch 00027: early stopping\n",
      "2004/2004 [==============================] - 0s\n"
     ]
    },
    {
     "data": {
      "text/plain": [
       "[0.46097105741500854, 0.37981972098350525]"
      ]
     },
     "execution_count": 20,
     "metadata": {},
     "output_type": "execute_result"
    }
   ],
   "source": [
    "# Segunda red con 1 capa de entrada (16n), una capa oculta (4n) y una capa de salida (1n)\n",
    "model = Sequential()\n",
    "model.add(Dense(16, kernel_initializer='uniform', activation='relu', input_shape=(X_train2.shape[1],)))\n",
    "model.add(Dense(4, kernel_initializer='uniform', activation='relu'))\n",
    "model.add(Dense(1, activation='linear'))\n",
    "model.compile(loss='mae', optimizer='adam', metrics=['mse'])\n",
    "\n",
    "early_stop = EarlyStopping(monitor='val_mean_squared_error', patience=10, verbose=1)\n",
    "\n",
    "model.fit(X_train2.values, y_train.values, epochs=50, validation_split=0.2,\n",
    "          batch_size=4, callbacks=[early_stop])\n",
    "\n",
    "score = model.evaluate(X_test2.values, y_test.values, batch_size=len(y_test))\n",
    "score"
   ]
  },
  {
   "cell_type": "code",
   "execution_count": 22,
   "metadata": {},
   "outputs": [
    {
     "name": "stdout",
     "output_type": "stream",
     "text": [
      "Train on 4809 samples, validate on 1203 samples\n",
      "Epoch 1/100\n",
      "4809/4809 [==============================] - 5s - loss: 0.7949 - mean_squared_error: 1.5437 - val_loss: 0.4964 - val_mean_squared_error: 0.4159\n",
      "Epoch 2/100\n",
      "4809/4809 [==============================] - 3s - loss: 0.4777 - mean_squared_error: 0.4043 - val_loss: 0.4816 - val_mean_squared_error: 0.4035\n",
      "Epoch 3/100\n",
      "4809/4809 [==============================] - 3s - loss: 0.4770 - mean_squared_error: 0.3998 - val_loss: 0.4905 - val_mean_squared_error: 0.4110\n",
      "Epoch 4/100\n",
      "4809/4809 [==============================] - 3s - loss: 0.4771 - mean_squared_error: 0.4016 - val_loss: 0.4882 - val_mean_squared_error: 0.4291\n",
      "Epoch 5/100\n",
      "4809/4809 [==============================] - 5s - loss: 0.4723 - mean_squared_error: 0.3953 - val_loss: 0.4765 - val_mean_squared_error: 0.4089\n",
      "Epoch 6/100\n",
      "4809/4809 [==============================] - 4s - loss: 0.4722 - mean_squared_error: 0.3943 - val_loss: 0.4856 - val_mean_squared_error: 0.4218\n",
      "Epoch 7/100\n",
      "4809/4809 [==============================] - 4s - loss: 0.4673 - mean_squared_error: 0.3903 - val_loss: 0.4817 - val_mean_squared_error: 0.4125\n",
      "Epoch 8/100\n",
      "4809/4809 [==============================] - 3s - loss: 0.4673 - mean_squared_error: 0.3881 - val_loss: 0.4956 - val_mean_squared_error: 0.4496\n",
      "Epoch 9/100\n",
      "4809/4809 [==============================] - 6s - loss: 0.4675 - mean_squared_error: 0.3878 - val_loss: 0.4747 - val_mean_squared_error: 0.4015\n",
      "Epoch 10/100\n",
      "4809/4809 [==============================] - 6s - loss: 0.4680 - mean_squared_error: 0.3879 - val_loss: 0.4839 - val_mean_squared_error: 0.4154\n",
      "Epoch 11/100\n",
      "4809/4809 [==============================] - 4s - loss: 0.4680 - mean_squared_error: 0.3860 - val_loss: 0.4743 - val_mean_squared_error: 0.3988\n",
      "Epoch 12/100\n",
      "4809/4809 [==============================] - 4s - loss: 0.4638 - mean_squared_error: 0.3829 - val_loss: 0.4853 - val_mean_squared_error: 0.4243\n",
      "Epoch 13/100\n",
      "4809/4809 [==============================] - 6s - loss: 0.4578 - mean_squared_error: 0.3724 - val_loss: 0.4674 - val_mean_squared_error: 0.3851\n",
      "Epoch 14/100\n",
      "4809/4809 [==============================] - 4s - loss: 0.4560 - mean_squared_error: 0.3680 - val_loss: 0.4645 - val_mean_squared_error: 0.3814\n",
      "Epoch 15/100\n",
      "4809/4809 [==============================] - 3s - loss: 0.4505 - mean_squared_error: 0.3567 - val_loss: 0.4650 - val_mean_squared_error: 0.3600\n",
      "Epoch 16/100\n",
      "4809/4809 [==============================] - 6s - loss: 0.4467 - mean_squared_error: 0.3517 - val_loss: 0.4548 - val_mean_squared_error: 0.3631\n",
      "Epoch 17/100\n",
      "4809/4809 [==============================] - 6s - loss: 0.4447 - mean_squared_error: 0.3474 - val_loss: 0.4592 - val_mean_squared_error: 0.3628\n",
      "Epoch 18/100\n",
      "4809/4809 [==============================] - 4s - loss: 0.4459 - mean_squared_error: 0.3496 - val_loss: 0.4540 - val_mean_squared_error: 0.3597\n",
      "Epoch 19/100\n",
      "4809/4809 [==============================] - 5s - loss: 0.4440 - mean_squared_error: 0.3467 - val_loss: 0.4518 - val_mean_squared_error: 0.3539\n",
      "Epoch 20/100\n",
      "4809/4809 [==============================] - 6s - loss: 0.4433 - mean_squared_error: 0.3439 - val_loss: 0.4432 - val_mean_squared_error: 0.3486\n",
      "Epoch 21/100\n",
      "4809/4809 [==============================] - 4s - loss: 0.4417 - mean_squared_error: 0.3429 - val_loss: 0.4484 - val_mean_squared_error: 0.3501\n",
      "Epoch 22/100\n",
      "4809/4809 [==============================] - 5s - loss: 0.4405 - mean_squared_error: 0.3428 - val_loss: 0.4432 - val_mean_squared_error: 0.3496\n",
      "Epoch 23/100\n",
      "4809/4809 [==============================] - 4s - loss: 0.4372 - mean_squared_error: 0.3374 - val_loss: 0.4544 - val_mean_squared_error: 0.3705\n",
      "Epoch 24/100\n",
      "4809/4809 [==============================] - 4s - loss: 0.4379 - mean_squared_error: 0.3421 - val_loss: 0.4650 - val_mean_squared_error: 0.3848\n",
      "Epoch 25/100\n",
      "4809/4809 [==============================] - 4s - loss: 0.4379 - mean_squared_error: 0.3395 - val_loss: 0.4497 - val_mean_squared_error: 0.3503\n",
      "Epoch 26/100\n",
      "4809/4809 [==============================] - 4s - loss: 0.4354 - mean_squared_error: 0.3366 - val_loss: 0.4452 - val_mean_squared_error: 0.3491\n",
      "Epoch 27/100\n",
      "4809/4809 [==============================] - 5s - loss: 0.4369 - mean_squared_error: 0.3362 - val_loss: 0.4479 - val_mean_squared_error: 0.3475\n",
      "Epoch 28/100\n",
      "4809/4809 [==============================] - 4s - loss: 0.4344 - mean_squared_error: 0.3362 - val_loss: 0.4493 - val_mean_squared_error: 0.3579\n",
      "Epoch 29/100\n",
      "4809/4809 [==============================] - 3s - loss: 0.4356 - mean_squared_error: 0.3356 - val_loss: 0.4484 - val_mean_squared_error: 0.3475\n",
      "Epoch 30/100\n",
      "4809/4809 [==============================] - 4s - loss: 0.4336 - mean_squared_error: 0.3321 - val_loss: 0.4480 - val_mean_squared_error: 0.3536\n",
      "Epoch 31/100\n",
      "4809/4809 [==============================] - 4s - loss: 0.4336 - mean_squared_error: 0.3343 - val_loss: 0.4571 - val_mean_squared_error: 0.3680\n",
      "Epoch 32/100\n",
      "4809/4809 [==============================] - 3s - loss: 0.4346 - mean_squared_error: 0.3346 - val_loss: 0.4533 - val_mean_squared_error: 0.3587\n",
      "Epoch 33/100\n",
      "4809/4809 [==============================] - 5s - loss: 0.4337 - mean_squared_error: 0.3300 - val_loss: 0.4498 - val_mean_squared_error: 0.3607\n",
      "Epoch 34/100\n",
      "4809/4809 [==============================] - 5s - loss: 0.4322 - mean_squared_error: 0.3317 - val_loss: 0.4614 - val_mean_squared_error: 0.3578\n",
      "Epoch 35/100\n",
      "4809/4809 [==============================] - 5s - loss: 0.4343 - mean_squared_error: 0.3325 - val_loss: 0.4607 - val_mean_squared_error: 0.3790\n",
      "Epoch 36/100\n",
      "4809/4809 [==============================] - 5s - loss: 0.4325 - mean_squared_error: 0.3343 - val_loss: 0.4483 - val_mean_squared_error: 0.3571\n",
      "Epoch 37/100\n",
      "4809/4809 [==============================] - 4s - loss: 0.4317 - mean_squared_error: 0.3318 - val_loss: 0.4516 - val_mean_squared_error: 0.3635\n",
      "Epoch 38/100\n",
      "4809/4809 [==============================] - 3s - loss: 0.4302 - mean_squared_error: 0.3291 - val_loss: 0.4549 - val_mean_squared_error: 0.3610\n",
      "Epoch 39/100\n",
      "4809/4809 [==============================] - 5s - loss: 0.4327 - mean_squared_error: 0.3325 - val_loss: 0.4536 - val_mean_squared_error: 0.3506\n",
      "Epoch 40/100\n",
      "4809/4809 [==============================] - 5s - loss: 0.4328 - mean_squared_error: 0.3311 - val_loss: 0.4528 - val_mean_squared_error: 0.3539\n",
      "Epoch 41/100\n",
      "4809/4809 [==============================] - 4s - loss: 0.4299 - mean_squared_error: 0.3301 - val_loss: 0.4497 - val_mean_squared_error: 0.3476\n",
      "Epoch 42/100\n",
      "4809/4809 [==============================] - 5s - loss: 0.4305 - mean_squared_error: 0.3302 - val_loss: 0.4553 - val_mean_squared_error: 0.3702\n",
      "Epoch 43/100\n",
      "4809/4809 [==============================] - 5s - loss: 0.4293 - mean_squared_error: 0.3296 - val_loss: 0.4504 - val_mean_squared_error: 0.3520\n",
      "Epoch 44/100\n",
      "4809/4809 [==============================] - 5s - loss: 0.4275 - mean_squared_error: 0.3271 - val_loss: 0.4600 - val_mean_squared_error: 0.3738\n",
      "Epoch 45/100\n",
      "4809/4809 [==============================] - 5s - loss: 0.4285 - mean_squared_error: 0.3279 - val_loss: 0.4498 - val_mean_squared_error: 0.3546\n",
      "Epoch 46/100\n",
      "4809/4809 [==============================] - 2s - loss: 0.4277 - mean_squared_error: 0.3288 - val_loss: 0.4532 - val_mean_squared_error: 0.3654\n",
      "Epoch 47/100\n",
      "4809/4809 [==============================] - 2s - loss: 0.4274 - mean_squared_error: 0.3259 - val_loss: 0.4526 - val_mean_squared_error: 0.3661\n",
      "Epoch 48/100\n",
      "4809/4809 [==============================] - 2s - loss: 0.4285 - mean_squared_error: 0.3305 - val_loss: 0.4535 - val_mean_squared_error: 0.3571\n",
      "Epoch 49/100\n",
      "4809/4809 [==============================] - 2s - loss: 0.4280 - mean_squared_error: 0.3278 - val_loss: 0.4582 - val_mean_squared_error: 0.3727\n",
      "Epoch 50/100\n",
      "4809/4809 [==============================] - 2s - loss: 0.4281 - mean_squared_error: 0.3284 - val_loss: 0.4488 - val_mean_squared_error: 0.3541\n",
      "Epoch 00049: early stopping\n",
      "2004/2004 [==============================] - 0s\n"
     ]
    },
    {
     "data": {
      "text/plain": [
       "[0.43825238943099976, 0.33742132782936096]"
      ]
     },
     "execution_count": 22,
     "metadata": {},
     "output_type": "execute_result"
    }
   ],
   "source": [
    "# Tercera red con 1 capa de entrada (16n), dos capas ocultas (8n y 4n) y una capa de salida (1n)\n",
    "model = Sequential()\n",
    "model.add(Dense(16, kernel_initializer='uniform', activation='relu', input_shape=(X_train2.shape[1],)))\n",
    "model.add(Dense(8, kernel_initializer='uniform', activation='relu'))\n",
    "model.add(Dense(4, kernel_initializer='uniform', activation='relu'))\n",
    "model.add(Dense(1, activation='linear'))\n",
    "model.compile(loss='mae', optimizer='adam', metrics=['mse'])\n",
    "\n",
    "early_stop = EarlyStopping(monitor='val_mean_squared_error', patience=20, verbose=1)\n",
    "\n",
    "model.fit(X_train2.values, y_train.values, epochs=100, validation_split=0.2,\n",
    "          batch_size=4, callbacks=[early_stop])\n",
    "\n",
    "score = model.evaluate(X_test2.values, y_test.values, batch_size=len(y_test))\n",
    "score"
   ]
  },
  {
   "cell_type": "code",
   "execution_count": null,
   "metadata": {
    "collapsed": true
   },
   "outputs": [],
   "source": []
  },
  {
   "cell_type": "code",
   "execution_count": null,
   "metadata": {
    "collapsed": true
   },
   "outputs": [],
   "source": []
  },
  {
   "cell_type": "code",
   "execution_count": null,
   "metadata": {
    "collapsed": true
   },
   "outputs": [],
   "source": []
  }
 ],
 "metadata": {
  "anaconda-cloud": {},
  "kernelspec": {
   "display_name": "Python [conda env:py35]",
   "language": "python",
   "name": "conda-env-py35-py"
  },
  "language_info": {
   "codemirror_mode": {
    "name": "ipython",
    "version": 3
   },
   "file_extension": ".py",
   "mimetype": "text/x-python",
   "name": "python",
   "nbconvert_exporter": "python",
   "pygments_lexer": "ipython3",
   "version": "3.5.3"
  }
 },
 "nbformat": 4,
 "nbformat_minor": 2
}
