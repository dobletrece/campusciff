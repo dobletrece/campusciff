{
 "cells": [
  {
   "cell_type": "markdown",
   "metadata": {},
   "source": [
    "## 1. Regresión de una función con Theano. (30 puntos)\n",
    "\n",
    "Crear un conjunto de datos utilizando el siguiente código:"
   ]
  },
  {
   "cell_type": "code",
   "execution_count": 1,
   "metadata": {
    "collapsed": false
   },
   "outputs": [],
   "source": [
    "import numpy as np\n",
    "import math\n",
    "import matplotlib.pyplot as plt\n",
    "%matplotlib inline\n",
    "import theano\n",
    "import theano.tensor as T\n",
    "\n",
    "trX = np.linspace(-1, 1, 101)\n",
    "\n",
    "trY = np.linspace(-1, 1, 101)\n",
    "\n",
    "for i in range(len(trY)):\n",
    "    trY[i] = math.log(1 + 0.5 * abs(trX[i])) + trX[i] / 3 + np.random.randn() * 0.033"
   ]
  },
  {
   "cell_type": "markdown",
   "metadata": {},
   "source": [
    "Ahora utilizar Theano para obtener los parámetros w0 y w1 del siguiente modelo\n",
    "utilizando los datos generados anteriormente.\n",
    "\n",
    "$y = log (1 + w0|x|) + w1 x$"
   ]
  },
  {
   "cell_type": "code",
   "execution_count": 2,
   "metadata": {
    "collapsed": false
   },
   "outputs": [
    {
     "data": {
      "text/plain": [
       "[<matplotlib.lines.Line2D at 0xa1666d8>]"
      ]
     },
     "execution_count": 2,
     "metadata": {},
     "output_type": "execute_result"
    },
    {
     "data": {
      "image/png": "[encoded data removed]",
      "text/plain": [
       "<matplotlib.figure.Figure at 0x25534e0>"
      ]
     },
     "metadata": {},
     "output_type": "display_data"
    }
   ],
   "source": [
    "plt.plot(trX, trY, 'r-' )"
   ]
  },
  {
   "cell_type": "code",
   "execution_count": 3,
   "metadata": {
    "collapsed": false
   },
   "outputs": [
    {
     "data": {
      "text/plain": [
       "array([ 0.02834702,  0.08016548,  0.07053468,  0.12466243,  0.07555734,\n",
       "        0.06950901,  0.07319235,  0.02974324,  0.06815265,  0.05442075,\n",
       "        0.05336407,  0.04421262,  0.05056106,  0.09672335,  0.05334199,\n",
       "        0.06245055,  0.04702504,  0.08227462,  0.0731272 ,  0.11719518,\n",
       "        0.05300214, -0.01143149,  0.01765299,  0.08552931,  0.1498111 ,\n",
       "        0.03257076,  0.04516902,  0.04722765,  0.02903972,  0.01244255,\n",
       "        0.0805228 ,  0.04959919, -0.0461286 ,  0.08631179,  0.02156981,\n",
       "        0.05914586,  0.03057603,  0.02284075,  0.03526784, -0.02015673,\n",
       "        0.06834638,  0.06214097,  0.01625852, -0.01049091,  0.01468724,\n",
       "        0.01756248,  0.05794006, -0.07836715,  0.02657589, -0.00737119,\n",
       "       -0.01772648,  0.02723215,  0.08868701,  0.0364006 ,  0.08134978,\n",
       "        0.08619435,  0.13355669,  0.08105825,  0.11682459,  0.18286441,\n",
       "        0.15878839,  0.2015865 ,  0.13530232,  0.2328686 ,  0.23645276,\n",
       "        0.21539403,  0.27293456,  0.24739861,  0.24399257,  0.2682863 ,\n",
       "        0.30741776,  0.31955616,  0.2926209 ,  0.39467185,  0.38351751,\n",
       "        0.3863268 ,  0.38124876,  0.38437418,  0.41656355,  0.4630004 ,\n",
       "        0.4589013 ,  0.48917096,  0.50544059,  0.45676801,  0.54149108,\n",
       "        0.55155165,  0.53909549,  0.58450646,  0.54035613,  0.58696951,\n",
       "        0.53542746,  0.58611999,  0.61552704,  0.6083369 ,  0.67264956,\n",
       "        0.66470253,  0.64853013,  0.70551188,  0.67870182,  0.74349157,\n",
       "        0.77706985])"
      ]
     },
     "execution_count": 3,
     "metadata": {},
     "output_type": "execute_result"
    }
   ],
   "source": [
    "trY"
   ]
  },
  {
   "cell_type": "code",
   "execution_count": 4,
   "metadata": {
    "collapsed": false
   },
   "outputs": [
    {
     "data": {
      "text/plain": [
       "array([-1.  , -0.98, -0.96, -0.94, -0.92, -0.9 , -0.88, -0.86, -0.84,\n",
       "       -0.82, -0.8 , -0.78, -0.76, -0.74, -0.72, -0.7 , -0.68, -0.66,\n",
       "       -0.64, -0.62, -0.6 , -0.58, -0.56, -0.54, -0.52, -0.5 , -0.48,\n",
       "       -0.46, -0.44, -0.42, -0.4 , -0.38, -0.36, -0.34, -0.32, -0.3 ,\n",
       "       -0.28, -0.26, -0.24, -0.22, -0.2 , -0.18, -0.16, -0.14, -0.12,\n",
       "       -0.1 , -0.08, -0.06, -0.04, -0.02,  0.  ,  0.02,  0.04,  0.06,\n",
       "        0.08,  0.1 ,  0.12,  0.14,  0.16,  0.18,  0.2 ,  0.22,  0.24,\n",
       "        0.26,  0.28,  0.3 ,  0.32,  0.34,  0.36,  0.38,  0.4 ,  0.42,\n",
       "        0.44,  0.46,  0.48,  0.5 ,  0.52,  0.54,  0.56,  0.58,  0.6 ,\n",
       "        0.62,  0.64,  0.66,  0.68,  0.7 ,  0.72,  0.74,  0.76,  0.78,\n",
       "        0.8 ,  0.82,  0.84,  0.86,  0.88,  0.9 ,  0.92,  0.94,  0.96,\n",
       "        0.98,  1.  ])"
      ]
     },
     "execution_count": 4,
     "metadata": {},
     "output_type": "execute_result"
    }
   ],
   "source": [
    "trX"
   ]
  },
  {
   "cell_type": "code",
   "execution_count": 5,
   "metadata": {
    "collapsed": false
   },
   "outputs": [
    {
     "name": "stdout",
     "output_type": "stream",
     "text": [
      "En el paso 0 el valor de w0 es 0.197073846959 , w1 es 0.168106732094 , con un coste 0.197336732405\n",
      "En el paso 1 el valor de w0 es 0.301017759642 , w1 es 0.253739809112 , con un coste 0.0722259644363\n",
      "En el paso 2 el valor de w0 es 0.364063465742 , w1 es 0.295713976552 , con un coste 0.0310868607223\n",
      "En el paso 3 el valor de w0 es 0.404570609456 , w1 es 0.315801301753 , con un coste 0.0157041209387\n",
      "En el paso 4 el valor de w0 es 0.431354374517 , w1 es 0.325150929134 , con un coste 0.00924695194696\n",
      "En el paso 5 el valor de w0 es 0.449344894314 , w1 es 0.329327291386 , con un coste 0.00623512667059\n",
      "En el paso 6 el valor de w0 es 0.461539989298 , w1 es 0.331066003906 , con un coste 0.00469580087482\n",
      "En el paso 7 el valor de w0 es 0.469852293864 , w1 es 0.331692729672 , con un coste 0.00384778835001\n",
      "En el paso 8 el valor de w0 es 0.475537400772 , w1 es 0.331838384719 , con un coste 0.00335235035085\n",
      "En el paso 9 el valor de w0 es 0.479434004211 , w1 es 0.331795543768 , con un coste 0.00304971357679\n",
      "En el paso 10 el valor de w0 es 0.482108388573 , w1 es 0.331694436742 , con un coste 0.00285863789463\n",
      "En el paso 11 el valor de w0 es 0.483945507967 , w1 es 0.331589019152 , con un coste 0.00273504730059\n",
      "En el paso 12 el valor de w0 es 0.485208180374 , w1 es 0.33149854955 , con un coste 0.00265369483453\n",
      "En el paso 13 el valor de w0 es 0.486076333938 , w1 es 0.331427330613 , con un coste 0.00259946576938\n",
      "En el paso 14 el valor de w0 es 0.486673367838 , w1 es 0.331373842894 , con un coste 0.00256298872412\n"
     ]
    }
   ],
   "source": [
    "X = T.scalar()\n",
    "Y = T.scalar()\n",
    "\n",
    "def model(X, w0, w1):\n",
    "    return np.log(1 + w0 * abs(X)) + w1 * X \n",
    "\n",
    "w0 = theano.shared(np.asarray(0., dtype = theano.config.floatX))\n",
    "w1 = theano.shared(np.asarray(0., dtype = theano.config.floatX))\n",
    "\n",
    "y = model(X, w0, w1)\n",
    "\n",
    "cost     = T.mean(T.sqr(y - Y))\n",
    "gradient_w0 = T.grad(cost = cost, wrt = w0)\n",
    "gradient_w1 = T.grad(cost = cost, wrt = w1)\n",
    "\n",
    "updates  = [[w0, w0 - gradient_w0 * 0.01], [w1, w1 - gradient_w1 * 0.01]]\n",
    "\n",
    "train = theano.function(inputs = [X, Y], outputs = cost, updates = updates, allow_input_downcast = True)\n",
    "\n",
    "for i in range(15):\n",
    "    for x, y in zip(trX, trY):\n",
    "        cost_i = train(x, y)\n",
    "    print 'En el paso', i, 'el valor de w0 es', w0.get_value(), ', w1 es', w1.get_value(), ', con un coste', cost_i"
   ]
  },
  {
   "cell_type": "markdown",
   "metadata": {},
   "source": [
    "## 2. Red neuronal con Theano. (70 puntos)\n",
    "Utilizando como ejemplo la hoja CIF007_04_02 implementar y entrenar con Theano una red\n",
    "neuronal que reproduzca una operación XOR de tres entradas, es decir que reproduzca la tabla:\n",
    "\n",
    "\n",
    "Entrada 1 | Entrada 2 | Entrada 3 | Salida\n",
    "--------- | --------- | --------- | ------\n",
    "0         | 0         | 0         | 0\n",
    "0         | 0         | 1         | 1\n",
    "0         | 1         | 0         | 1\n",
    "0         | 1         | 1         | 0\n",
    "1         | 0         | 0         | 1\n",
    "1         | 0         | 1         | 0\n",
    "1         | 1         | 0         | 0\n",
    "1         | 1         | 1         | 1"
   ]
  },
  {
   "cell_type": "code",
   "execution_count": 6,
   "metadata": {
    "collapsed": true
   },
   "outputs": [],
   "source": [
    "import numpy as np\n",
    "import math\n",
    "import matplotlib.pyplot as plt\n",
    "%matplotlib inline\n",
    "import theano\n",
    "import theano.tensor as T"
   ]
  },
  {
   "cell_type": "code",
   "execution_count": 7,
   "metadata": {
    "collapsed": false
   },
   "outputs": [],
   "source": [
    "# Definimos las variables. En este caso vamos a diseñar una red neuronal con 3 capas; la primera de ellas contendrá\n",
    "# 3 neuronas para recibir las 3 entradas posibles, la segunda capa contará con 2 neuronas y la tercera y última con\n",
    "# tan solo una. Tendremos por tanto 6 pesos (uno por neurona), los 5 primeros serán arrays de 3 elementos y el sexto\n",
    "# tendrá tan sólo 2 ya que recibirá como entradas, las salidas (2) de las neuronas a4 y a5. Por último definimos los\n",
    "# 3 biases, uno por cada capa de la red neuronal.\n",
    "x = T.matrix('x')\n",
    "w1 = theano.shared(np.array([.1, .2, .3], dtype = theano.config.floatX))\n",
    "w2 = theano.shared(np.array([.3, .4, .5], dtype = theano.config.floatX))\n",
    "w3 = theano.shared(np.array([.5, .6, .7], dtype = theano.config.floatX))\n",
    "w4 = theano.shared(np.array([.7, .8, .9], dtype = theano.config.floatX))\n",
    "w5 = theano.shared(np.array([.5, .6, .7], dtype = theano.config.floatX))\n",
    "w6 = theano.shared(np.array([.7, .8], dtype = theano.config.floatX))\n",
    "b1 = theano.shared(1.)\n",
    "b2 = theano.shared(1.)\n",
    "b3 = theano.shared(1.)\n",
    "learning_rate = 0.01"
   ]
  },
  {
   "cell_type": "code",
   "execution_count": 8,
   "metadata": {
    "collapsed": true
   },
   "outputs": [],
   "source": [
    "# Aquí expresamos la relación entre las distintas neuronas de la red (capa 1 - a1, a2, a3; capa 2 - a4, a5; capa 3 - a6) \n",
    "a1 = 1 / (1 + T.exp(-T.dot(x, w1) - b1))\n",
    "a2 = 1 / (1 + T.exp(-T.dot(x, w2) - b1))\n",
    "a3 = 1 / (1 + T.exp(-T.dot(x, w3) - b1))\n",
    "x2 = T.stack([a1, a2, a3], axis = 1)\n",
    "a4 = 1 / (1 + T.exp(-T.dot(x2, w4) - b2))\n",
    "a5 = 1 / (1 + T.exp(-T.dot(x2, w5) - b2))\n",
    "x3 = T.stack([a4, a5], axis = 1)\n",
    "a6 = 1 / (1 + T.exp(-T.dot(x3, w6) - b3))"
   ]
  },
  {
   "cell_type": "code",
   "execution_count": 9,
   "metadata": {
    "collapsed": false
   },
   "outputs": [],
   "source": [
    "# Función de coste, gradiente y entrenamiento de la red\n",
    "a_hat = T.vector('a_hat')\n",
    "cost = -(a_hat * T.log(a6) + (1 - a_hat) * T.log(1 - a6)).sum()\n",
    "dw1, dw2, dw3, dw4, dw5, dw6, db1, db2, db3 = T.grad(cost, [w1, w2, w3, w4, w5, w6, b1, b2, b3])\n",
    "\n",
    "train = theano.function(\n",
    "    inputs = [x,a_hat],\n",
    "    outputs = [a6,cost],\n",
    "    updates = [\n",
    "        [w1, w1 - learning_rate * dw1],\n",
    "        [w2, w2 - learning_rate * dw2],\n",
    "        [w3, w3 - learning_rate * dw3],\n",
    "        [w4, w4 - learning_rate * dw4],\n",
    "        [w5, w5 - learning_rate * dw5],\n",
    "        [w6, w6 - learning_rate * dw6],\n",
    "        [b1, b1 - learning_rate * db1],\n",
    "        [b2, b2 - learning_rate * db2],\n",
    "        [b3, b3 - learning_rate * db3]\n",
    "    ]\n",
    ")"
   ]
  },
  {
   "cell_type": "code",
   "execution_count": 10,
   "metadata": {
    "collapsed": false
   },
   "outputs": [
    {
     "name": "stdout",
     "output_type": "stream",
     "text": [
      "Los resultados de la red son:\n",
      "El resultado para [0, 0, 0] es 0.00\n",
      "El resultado para [0, 0, 1] es 1.00\n",
      "El resultado para [0, 1, 0] es 1.00\n",
      "El resultado para [0, 1, 1] es 0.00\n",
      "El resultado para [1, 0, 0] es 1.00\n",
      "El resultado para [1, 0, 1] es 0.00\n",
      "El resultado para [1, 1, 0] es 0.00\n",
      "El resultado para [1, 1, 1] es 1.00\n",
      "\n",
      "El vector w1 es [2.75, 2.75]\n",
      "El vector w2 es [4.26, 4.26]\n",
      "El vector w3 es [8.80, 8.80]\n",
      "El vector w4 es [10.04, 10.04]\n",
      "El vector w5 es [-6.33, -6.33]\n",
      "El vector w6 es [14.12, 14.12]\n",
      "El valor del bias 1 es -6.61\n",
      "El valor del bias 2 es -4.19\n",
      "El valor del bias 3 es -7.21\n"
     ]
    },
    {
     "data": {
      "text/plain": [
       "[<matplotlib.lines.Line2D at 0xef74198>]"
      ]
     },
     "execution_count": 10,
     "metadata": {},
     "output_type": "execute_result"
    },
    {
     "data": {
      "image/png": "[encoded data removed]",
      "text/plain": [
       "<matplotlib.figure.Figure at 0xc0d80b8>"
      ]
     },
     "metadata": {},
     "output_type": "display_data"
    }
   ],
   "source": [
    "inputs = [[0, 0, 0], [0, 0, 1], [0, 1, 0], [0, 1, 1], [1, 0, 0], [1, 0, 1], [1, 1, 0], [1, 1, 1]]\n",
    "outputs = [0, 1, 1, 0, 1, 0, 0, 1]\n",
    "\n",
    "# Iteramos sobre el conjunto de entrenamiento \n",
    "cost = []\n",
    "for iteration in range(300000):\n",
    "    pred, cost_iter = train(inputs, outputs)\n",
    "    cost.append(cost_iter)\n",
    "    \n",
    "# Se imprimen los resultados por pantalla\n",
    "print 'Los resultados de la red son:'\n",
    "for i in range(len(inputs)):\n",
    "    print 'El resultado para [%d, %d, %d] es %.2f' % (inputs[i][0], inputs[i][1], inputs[i][2], pred[i])\n",
    "\n",
    "    # Resultados\n",
    "print\n",
    "print 'El vector w1 es [%.2f, %.2f]' % (w1.get_value()[0], w1.get_value()[0])\n",
    "print 'El vector w2 es [%.2f, %.2f]' % (w2.get_value()[0], w2.get_value()[0])\n",
    "print 'El vector w3 es [%.2f, %.2f]' % (w3.get_value()[0], w3.get_value()[0])\n",
    "print 'El vector w4 es [%.2f, %.2f]' % (w4.get_value()[0], w4.get_value()[0])\n",
    "print 'El vector w5 es [%.2f, %.2f]' % (w5.get_value()[0], w5.get_value()[0])\n",
    "print 'El vector w6 es [%.2f, %.2f]' % (w6.get_value()[0], w6.get_value()[0])\n",
    "print 'El valor del bias 1 es %.2f' % b1.get_value()\n",
    "print 'El valor del bias 2 es %.2f' % b2.get_value()\n",
    "print 'El valor del bias 3 es %.2f' % b3.get_value()\n",
    "\n",
    "# Función de esfuerzo en función del número de iteraciones\n",
    "plt.plot(cost)"
   ]
  },
  {
   "cell_type": "code",
   "execution_count": null,
   "metadata": {
    "collapsed": true
   },
   "outputs": [],
   "source": []
  }
 ],
 "metadata": {
  "anaconda-cloud": {},
  "kernelspec": {
   "display_name": "Python [default]",
   "language": "python",
   "name": "python2"
  },
  "language_info": {
   "codemirror_mode": {
    "name": "ipython",
    "version": 2
   },
   "file_extension": ".py",
   "mimetype": "text/x-python",
   "name": "python",
   "nbconvert_exporter": "python",
   "pygments_lexer": "ipython2",
   "version": "2.7.12"
  }
 },
 "nbformat": 4,
 "nbformat_minor": 1
}
